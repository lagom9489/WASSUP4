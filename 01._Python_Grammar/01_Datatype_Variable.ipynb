{
 "cells": [
  {
   "cell_type": "markdown",
   "id": "a24d1b8f-b488-412e-8cec-9b2f278abf53",
   "metadata": {},
   "source": [
    "# 변수와 자료형"
   ]
  },
  {
   "cell_type": "markdown",
   "id": "07249ff7-5e2a-4cdb-bbea-247c11840ea1",
   "metadata": {},
   "source": [
    "## 자료형의 값을 저장하는 공간, 변수"
   ]
  },
  {
   "cell_type": "code",
   "execution_count": 9,
   "id": "cb5cfb3d-2064-422f-b787-81b138125e32",
   "metadata": {},
   "outputs": [
    {
     "name": "stdout",
     "output_type": "stream",
     "text": [
      "1\n"
     ]
    }
   ],
   "source": [
    "a = 1\n",
    "print(a)"
   ]
  },
  {
   "cell_type": "code",
   "execution_count": 11,
   "id": "b4cb3df6-0715-42da-aeae-6dcec4e8aa03",
   "metadata": {},
   "outputs": [
    {
     "data": {
      "text/plain": [
       "'python'"
      ]
     },
     "execution_count": 11,
     "metadata": {},
     "output_type": "execute_result"
    }
   ],
   "source": [
    "b = 'python'\n",
    "b"
   ]
  },
  {
   "cell_type": "code",
   "execution_count": 13,
   "id": "5834a307-78c7-4001-9417-4447d31c05af",
   "metadata": {},
   "outputs": [
    {
     "data": {
      "text/plain": [
       "[1, 2, 3]"
      ]
     },
     "execution_count": 13,
     "metadata": {},
     "output_type": "execute_result"
    }
   ],
   "source": [
    "c = [1,2,3]\n",
    "c"
   ]
  },
  {
   "cell_type": "markdown",
   "id": "fb34ef82-7f87-41bf-856f-e13928bdcc43",
   "metadata": {},
   "source": [
    "# 숫자형"
   ]
  },
  {
   "cell_type": "code",
   "execution_count": 16,
   "id": "375316a7-4f6c-431d-bf2f-abf98e0dbe74",
   "metadata": {},
   "outputs": [
    {
     "data": {
      "text/plain": [
       "123"
      ]
     },
     "execution_count": 16,
     "metadata": {},
     "output_type": "execute_result"
    }
   ],
   "source": [
    "# 정수형 \n",
    "a = 123\n",
    "a"
   ]
  },
  {
   "cell_type": "code",
   "execution_count": 18,
   "id": "55504342-f2aa-4a37-9dd2-f6f6caf0ecfd",
   "metadata": {},
   "outputs": [
    {
     "data": {
      "text/plain": [
       "-178"
      ]
     },
     "execution_count": 18,
     "metadata": {},
     "output_type": "execute_result"
    }
   ],
   "source": [
    "a = -178\n",
    "a"
   ]
  },
  {
   "cell_type": "code",
   "execution_count": 20,
   "id": "e20c48dd-746a-4e79-bc57-83e537c01cb5",
   "metadata": {},
   "outputs": [
    {
     "data": {
      "text/plain": [
       "0"
      ]
     },
     "execution_count": 20,
     "metadata": {},
     "output_type": "execute_result"
    }
   ],
   "source": [
    "a = 0 \n",
    "a"
   ]
  },
  {
   "cell_type": "code",
   "execution_count": 23,
   "id": "ee751871-064d-4668-a498-c75d2bd66f9e",
   "metadata": {},
   "outputs": [
    {
     "data": {
      "text/plain": [
       "(1.2, -3.45)"
      ]
     },
     "execution_count": 23,
     "metadata": {},
     "output_type": "execute_result"
    }
   ],
   "source": [
    "# 실수형\n",
    "a = 1.2\n",
    "b = -3.45\n",
    "a, b "
   ]
  },
  {
   "cell_type": "code",
   "execution_count": 27,
   "id": "344781e3-962d-4370-85e2-b47d02edeee9",
   "metadata": {},
   "outputs": [
    {
     "data": {
      "text/plain": [
       "42400000000.0"
      ]
     },
     "execution_count": 27,
     "metadata": {},
     "output_type": "execute_result"
    }
   ],
   "source": [
    "a = 4.24E10\n",
    "a"
   ]
  },
  {
   "cell_type": "code",
   "execution_count": 29,
   "id": "4949205e-aa29-47d0-b213-a6dc05d38389",
   "metadata": {},
   "outputs": [
    {
     "data": {
      "text/plain": [
       "4.24e-10"
      ]
     },
     "execution_count": 29,
     "metadata": {},
     "output_type": "execute_result"
    }
   ],
   "source": [
    "a = 4.24E-10\n",
    "a"
   ]
  },
  {
   "cell_type": "code",
   "execution_count": 31,
   "id": "41ba6c90-cfaf-4b01-8343-477d40f15826",
   "metadata": {},
   "outputs": [
    {
     "name": "stdout",
     "output_type": "stream",
     "text": [
      "127\n"
     ]
    }
   ],
   "source": [
    "a = 0o177\n",
    "print(a)"
   ]
  },
  {
   "cell_type": "code",
   "execution_count": 33,
   "id": "ac137724-00ae-40cc-829b-49d69cb05687",
   "metadata": {},
   "outputs": [
    {
     "data": {
      "text/plain": [
       "(2303, 2748)"
      ]
     },
     "execution_count": 33,
     "metadata": {},
     "output_type": "execute_result"
    }
   ],
   "source": [
    "a = 0x8ff\n",
    "b = 0xABC\n",
    "a,b"
   ]
  },
  {
   "cell_type": "markdown",
   "id": "aa971cef-6c22-4f7e-b89d-56ebef83fe9f",
   "metadata": {},
   "source": [
    "# 연산자"
   ]
  },
  {
   "cell_type": "code",
   "execution_count": 36,
   "id": "eb21621d-8ff2-4afb-81fb-830f56748f73",
   "metadata": {},
   "outputs": [
    {
     "data": {
      "text/plain": [
       "7"
      ]
     },
     "execution_count": 36,
     "metadata": {},
     "output_type": "execute_result"
    }
   ],
   "source": [
    "# 사칙연산 \n",
    "a = 3 \n",
    "b = 4 \n",
    "a+b"
   ]
  },
  {
   "cell_type": "code",
   "execution_count": 38,
   "id": "41557c1e-dad3-45ca-8e25-7a2751645ccb",
   "metadata": {},
   "outputs": [
    {
     "data": {
      "text/plain": [
       "(-1, 12, 0.75)"
      ]
     },
     "execution_count": 38,
     "metadata": {},
     "output_type": "execute_result"
    }
   ],
   "source": [
    "a-b, a*b, a/b"
   ]
  },
  {
   "cell_type": "code",
   "execution_count": 40,
   "id": "a82e49ab-4876-4bc3-9612-a7680162e1a7",
   "metadata": {},
   "outputs": [
    {
     "data": {
      "text/plain": [
       "81"
      ]
     },
     "execution_count": 40,
     "metadata": {},
     "output_type": "execute_result"
    }
   ],
   "source": [
    "# x의 y제곱을 나타내는 **연산자\n",
    "a ** b "
   ]
  },
  {
   "cell_type": "code",
   "execution_count": 44,
   "id": "da572e0c-a55a-4a3f-83c7-a4dbe944e3b8",
   "metadata": {},
   "outputs": [
    {
     "data": {
      "text/plain": [
       "(1, 3)"
      ]
     },
     "execution_count": 44,
     "metadata": {},
     "output_type": "execute_result"
    }
   ],
   "source": [
    "# 나눈셈 후 나머지를 리턴\n",
    "7%3, 3%7"
   ]
  },
  {
   "cell_type": "code",
   "execution_count": 46,
   "id": "be9395b8-d3cf-4c9e-af3f-52dd06989294",
   "metadata": {},
   "outputs": [
    {
     "data": {
      "text/plain": [
       "1"
      ]
     },
     "execution_count": 46,
     "metadata": {},
     "output_type": "execute_result"
    }
   ],
   "source": [
    "# 나눗셈 후 몫을 리턴\n",
    "7//4"
   ]
  },
  {
   "cell_type": "code",
   "execution_count": 50,
   "id": "663996fd-da31-4792-bd5e-de6c47207547",
   "metadata": {},
   "outputs": [
    {
     "data": {
      "text/plain": [
       "4"
      ]
     },
     "execution_count": 50,
     "metadata": {},
     "output_type": "execute_result"
    }
   ],
   "source": [
    "# 복합 연산자\n",
    "a = a + 1\n",
    "a"
   ]
  },
  {
   "cell_type": "code",
   "execution_count": 52,
   "id": "00e425ed-95a8-4324-b369-4f64bb906894",
   "metadata": {},
   "outputs": [
    {
     "data": {
      "text/plain": [
       "5"
      ]
     },
     "execution_count": 52,
     "metadata": {},
     "output_type": "execute_result"
    }
   ],
   "source": [
    "a += 1 \n",
    "a "
   ]
  },
  {
   "cell_type": "code",
   "execution_count": 54,
   "id": "417d7bce-ddab-42e9-a44c-2e8eb5dcda17",
   "metadata": {},
   "outputs": [
    {
     "data": {
      "text/plain": [
       "4"
      ]
     },
     "execution_count": 54,
     "metadata": {},
     "output_type": "execute_result"
    }
   ],
   "source": [
    "a -= 1\n",
    "a"
   ]
  },
  {
   "cell_type": "markdown",
   "id": "a00e4e1d-6997-400c-ab1f-aef8ab2c1654",
   "metadata": {},
   "source": [
    "# 문자열\n",
    "\"life is too short, You need Python\""
   ]
  },
  {
   "cell_type": "code",
   "execution_count": 58,
   "id": "c402053e-9463-4c8a-b697-6d702727b69b",
   "metadata": {},
   "outputs": [
    {
     "data": {
      "text/plain": [
       "'Hello World'"
      ]
     },
     "execution_count": 58,
     "metadata": {},
     "output_type": "execute_result"
    }
   ],
   "source": [
    "\n",
    "\"Hello World\""
   ]
  },
  {
   "cell_type": "code",
   "execution_count": 60,
   "id": "f42cb84d-2a53-4d91-844b-fc947db8d075",
   "metadata": {},
   "outputs": [
    {
     "data": {
      "text/plain": [
       "'Python is fun'"
      ]
     },
     "execution_count": 60,
     "metadata": {},
     "output_type": "execute_result"
    }
   ],
   "source": [
    "'Python is fun'"
   ]
  },
  {
   "cell_type": "code",
   "execution_count": 62,
   "id": "1d5375c8-90e1-44f4-8079-25cf9236f822",
   "metadata": {},
   "outputs": [
    {
     "data": {
      "text/plain": [
       "'Life is too short, You need python'"
      ]
     },
     "execution_count": 62,
     "metadata": {},
     "output_type": "execute_result"
    }
   ],
   "source": [
    "\"\"\"Life is too short, You need python\"\"\""
   ]
  },
  {
   "cell_type": "code",
   "execution_count": 64,
   "id": "4d1b874a-a5ef-4968-a792-c9aaf92fc6c0",
   "metadata": {},
   "outputs": [
    {
     "data": {
      "text/plain": [
       "'Life is too short, You need python'"
      ]
     },
     "execution_count": 64,
     "metadata": {},
     "output_type": "execute_result"
    }
   ],
   "source": [
    "'''Life is too short, You need python'''"
   ]
  },
  {
   "cell_type": "markdown",
   "id": "d1d5ded4-0f88-4c23-a7e8-ca93d4bb575d",
   "metadata": {},
   "source": [
    "# 1. 문자열에 작은 따옴표 포함하기 "
   ]
  },
  {
   "cell_type": "code",
   "execution_count": 69,
   "id": "dd5555b4-6a35-4d9c-acf6-04978e816b6c",
   "metadata": {},
   "outputs": [
    {
     "data": {
      "text/plain": [
       "\"Python's favorite food is perl\""
      ]
     },
     "execution_count": 69,
     "metadata": {},
     "output_type": "execute_result"
    }
   ],
   "source": [
    "'''Python's favorite food is perl'''"
   ]
  },
  {
   "cell_type": "markdown",
   "id": "3f081d2b-1f4f-4f5b-8a65-54c9a603365e",
   "metadata": {},
   "source": [
    "# 2. 문자열에 큰 따옴표 포함하기"
   ]
  },
  {
   "cell_type": "code",
   "execution_count": 74,
   "id": "fc767943-9b9e-4d44-a8e2-6aabd11a6fee",
   "metadata": {},
   "outputs": [
    {
     "data": {
      "text/plain": [
       "'\"Python is very easy.\" he says.'"
      ]
     },
     "execution_count": 74,
     "metadata": {},
     "output_type": "execute_result"
    }
   ],
   "source": [
    "'\"Python is very easy.\" he says.'"
   ]
  },
  {
   "cell_type": "markdown",
   "id": "709f8953-fe57-46e2-b5f8-69cb830a587e",
   "metadata": {},
   "source": [
    "# 3. 역슬래시를 사용해서 작은 따옴표와 큰 따옴표를 문자열에 포함하기\n",
    "food = 'Python\\'s favorite food is perl'   \n",
    "say = \"\\\"Python is very easy.\\\" he says.\""
   ]
  },
  {
   "cell_type": "code",
   "execution_count": 85,
   "id": "0efaeb95-662c-4535-b57a-9ba9368c5fe3",
   "metadata": {},
   "outputs": [
    {
     "data": {
      "text/plain": [
       "\"Python's favorite food is perl\""
      ]
     },
     "execution_count": 85,
     "metadata": {},
     "output_type": "execute_result"
    }
   ],
   "source": [
    "food = 'Python\\'s favorite food is perl'\n",
    "food"
   ]
  },
  {
   "cell_type": "markdown",
   "id": "ae43bb51-d183-4f8c-8a8e-6c80964434f9",
   "metadata": {},
   "source": [
    "# 여러 줄인 문자열을 변수에 대입하고 싶을 때"
   ]
  },
  {
   "cell_type": "code",
   "execution_count": 88,
   "id": "6d2170e8-a266-4b82-a926-537bc788a1be",
   "metadata": {},
   "outputs": [
    {
     "ename": "SyntaxError",
     "evalue": "unterminated string literal (detected at line 1) (1447728216.py, line 1)",
     "output_type": "error",
     "traceback": [
      "\u001b[0;36m  Cell \u001b[0;32mIn[88], line 1\u001b[0;36m\u001b[0m\n\u001b[0;31m    a = 'Life is too short\u001b[0m\n\u001b[0m        ^\u001b[0m\n\u001b[0;31mSyntaxError\u001b[0m\u001b[0;31m:\u001b[0m unterminated string literal (detected at line 1)\n"
     ]
    }
   ],
   "source": [
    "a = 'Life is too short\n",
    "You need Python'"
   ]
  },
  {
   "cell_type": "code",
   "execution_count": 94,
   "id": "b68ce386-feb8-41cc-8a4c-2f1c650896a8",
   "metadata": {},
   "outputs": [
    {
     "data": {
      "text/plain": [
       "'Life is too short\\nYou need python'"
      ]
     },
     "execution_count": 94,
     "metadata": {},
     "output_type": "execute_result"
    }
   ],
   "source": [
    "# 1. 줄을 바꾸기 위한 이스케이프 코드 \\n 삽입하기 \n",
    "multiline = \"Life is too short\\nYou need python\"\n",
    "multiline"
   ]
  },
  {
   "cell_type": "code",
   "execution_count": 96,
   "id": "a390a498-38b3-4eb5-9dbd-c319b7dd68d9",
   "metadata": {},
   "outputs": [
    {
     "name": "stdout",
     "output_type": "stream",
     "text": [
      "Life is too short\n",
      "You need python\n"
     ]
    }
   ],
   "source": [
    "print(multiline)"
   ]
  },
  {
   "cell_type": "code",
   "execution_count": 98,
   "id": "cf4e2a9b-6cc9-4d37-ac63-30f59b3f37eb",
   "metadata": {},
   "outputs": [
    {
     "data": {
      "text/plain": [
       "'\\nLife is too short \\nYou need python\\n'"
      ]
     },
     "execution_count": 98,
     "metadata": {},
     "output_type": "execute_result"
    }
   ],
   "source": [
    "#2. 연속된 작은따옴표 3개 또는 큰따옴표 3개 사용하기\n",
    "'''\n",
    "Life is too short \n",
    "You need python\n",
    "'''"
   ]
  },
  {
   "cell_type": "markdown",
   "id": "d8d07642-8061-400a-8262-de81ff129e31",
   "metadata": {},
   "source": [
    "# 문자열 연산하기"
   ]
  },
  {
   "cell_type": "code",
   "execution_count": 101,
   "id": "39868822-5925-448d-a539-f3da83c8e0f0",
   "metadata": {},
   "outputs": [
    {
     "data": {
      "text/plain": [
       "'python is fun!'"
      ]
     },
     "execution_count": 101,
     "metadata": {},
     "output_type": "execute_result"
    }
   ],
   "source": [
    "head = \"python\"\n",
    "tail = \" is fun!\"\n",
    "head + tail"
   ]
  },
  {
   "cell_type": "code",
   "execution_count": 103,
   "id": "9f3109ab-69a3-4e4e-8224-477eed8f05c5",
   "metadata": {},
   "outputs": [
    {
     "data": {
      "text/plain": [
       "'pythonpython'"
      ]
     },
     "execution_count": 103,
     "metadata": {},
     "output_type": "execute_result"
    }
   ],
   "source": [
    "head*2"
   ]
  },
  {
   "cell_type": "code",
   "execution_count": 109,
   "id": "7bcc4576-2962-4b62-9435-84aaa682e589",
   "metadata": {},
   "outputs": [
    {
     "name": "stdout",
     "output_type": "stream",
     "text": [
      "==================================================\n",
      "지현이 화이팅!\n",
      "==================================================\n"
     ]
    }
   ],
   "source": [
    "print(\"=\"*50)\n",
    "print(\"지현이 화이팅!\")\n",
    "print(\"=\"*50)"
   ]
  },
  {
   "cell_type": "code",
   "execution_count": 111,
   "id": "e5b95364-4e9b-4a44-9200-190270b68ead",
   "metadata": {},
   "outputs": [
    {
     "data": {
      "text/plain": [
       "17"
      ]
     },
     "execution_count": 111,
     "metadata": {},
     "output_type": "execute_result"
    }
   ],
   "source": [
    "a = \"Life is too short\"\n",
    "len(a)"
   ]
  },
  {
   "cell_type": "markdown",
   "id": "01bb997f-d478-4272-a077-d5a52d2bf8f9",
   "metadata": {},
   "source": [
    "# 문자열 인덱싱과 슬라이싱"
   ]
  },
  {
   "cell_type": "code",
   "execution_count": 114,
   "id": "c3c31829-3bec-45f9-a416-474e1482b9e8",
   "metadata": {},
   "outputs": [
    {
     "data": {
      "text/plain": [
       "'Life is too short, You need python'"
      ]
     },
     "execution_count": 114,
     "metadata": {},
     "output_type": "execute_result"
    }
   ],
   "source": [
    "a = \"Life is too short, You need python\"\n",
    "a"
   ]
  },
  {
   "cell_type": "code",
   "execution_count": 116,
   "id": "6e5c3861-b533-45ad-be4c-a34d16f44e11",
   "metadata": {},
   "outputs": [
    {
     "data": {
      "text/plain": [
       "'e'"
      ]
     },
     "execution_count": 116,
     "metadata": {},
     "output_type": "execute_result"
    }
   ],
   "source": [
    "a[3]"
   ]
  },
  {
   "cell_type": "code",
   "execution_count": 118,
   "id": "5406ce88-a315-437e-ba82-c85f900370bd",
   "metadata": {},
   "outputs": [
    {
     "data": {
      "text/plain": [
       "','"
      ]
     },
     "execution_count": 118,
     "metadata": {},
     "output_type": "execute_result"
    }
   ],
   "source": [
    "a[17]"
   ]
  },
  {
   "cell_type": "code",
   "execution_count": 120,
   "id": "d2b4a73b-ec1d-4144-a098-aba9611c045e",
   "metadata": {},
   "outputs": [
    {
     "data": {
      "text/plain": [
       "'p'"
      ]
     },
     "execution_count": 120,
     "metadata": {},
     "output_type": "execute_result"
    }
   ],
   "source": [
    "a[-6]"
   ]
  },
  {
   "cell_type": "code",
   "execution_count": 122,
   "id": "cb7fe616-8116-47c1-81f8-17eadf2ddbc6",
   "metadata": {},
   "outputs": [
    {
     "data": {
      "text/plain": [
       "'Life'"
      ]
     },
     "execution_count": 122,
     "metadata": {},
     "output_type": "execute_result"
    }
   ],
   "source": [
    "a[0] + a[1]+a[2]+a[3]"
   ]
  },
  {
   "cell_type": "code",
   "execution_count": 124,
   "id": "3819536d-ca1a-4105-863f-3781336e3e1d",
   "metadata": {},
   "outputs": [
    {
     "data": {
      "text/plain": [
       "'Lif'"
      ]
     },
     "execution_count": 124,
     "metadata": {},
     "output_type": "execute_result"
    }
   ],
   "source": [
    "a[0:3]"
   ]
  },
  {
   "cell_type": "code",
   "execution_count": 126,
   "id": "98aeaa47-249d-4fa9-b85a-bdf43abb5f6c",
   "metadata": {},
   "outputs": [
    {
     "data": {
      "text/plain": [
       "'Life'"
      ]
     },
     "execution_count": 126,
     "metadata": {},
     "output_type": "execute_result"
    }
   ],
   "source": [
    "a[0:4]"
   ]
  },
  {
   "cell_type": "code",
   "execution_count": 128,
   "id": "9239c746-deb8-4726-9551-ab0af6cad2f2",
   "metadata": {},
   "outputs": [
    {
     "data": {
      "text/plain": [
       "'short, '"
      ]
     },
     "execution_count": 128,
     "metadata": {},
     "output_type": "execute_result"
    }
   ],
   "source": [
    "a[12:19]"
   ]
  },
  {
   "cell_type": "code",
   "execution_count": 130,
   "id": "04eb96aa-199a-47fd-998a-98761667f845",
   "metadata": {},
   "outputs": [
    {
     "data": {
      "text/plain": [
       "'short, You need python'"
      ]
     },
     "execution_count": 130,
     "metadata": {},
     "output_type": "execute_result"
    }
   ],
   "source": [
    "a[12:]"
   ]
  },
  {
   "cell_type": "code",
   "execution_count": 134,
   "id": "b34d5aae-bd26-410b-9d68-719a783ba914",
   "metadata": {},
   "outputs": [
    {
     "data": {
      "text/plain": [
       "'Life is too short'"
      ]
     },
     "execution_count": 134,
     "metadata": {},
     "output_type": "execute_result"
    }
   ],
   "source": [
    "a[:17]"
   ]
  },
  {
   "cell_type": "code",
   "execution_count": 136,
   "id": "d4644048-5cff-48d8-8491-e6a1340e8149",
   "metadata": {},
   "outputs": [
    {
     "data": {
      "text/plain": [
       "'Life is too short, You need python'"
      ]
     },
     "execution_count": 136,
     "metadata": {},
     "output_type": "execute_result"
    }
   ],
   "source": [
    "a[:]"
   ]
  },
  {
   "cell_type": "code",
   "execution_count": 148,
   "id": "579c38e1-d94f-41e1-912f-18cf278cd190",
   "metadata": {},
   "outputs": [
    {
     "data": {
      "text/plain": [
       "'You need'"
      ]
     },
     "execution_count": 148,
     "metadata": {},
     "output_type": "execute_result"
    }
   ],
   "source": [
    "a[19:-7]"
   ]
  },
  {
   "cell_type": "code",
   "execution_count": 188,
   "id": "c52b06e8-65d5-49ed-807a-2ac58ab6538b",
   "metadata": {},
   "outputs": [
    {
     "data": {
      "text/plain": [
       "('2024', '0904')"
      ]
     },
     "execution_count": 188,
     "metadata": {},
     "output_type": "execute_result"
    }
   ],
   "source": [
    "a = \"20240904Sunny\"\n",
    "date = a[:-5]\n",
    "weather = a[8:]\n",
    "date, weather\n"
   ]
  },
  {
   "cell_type": "code",
   "execution_count": 190,
   "id": "0decb3c1-528a-4591-bfa4-d6f047e47622",
   "metadata": {},
   "outputs": [
    {
     "data": {
      "text/plain": [
       "('2024', '0904')"
      ]
     },
     "execution_count": 190,
     "metadata": {},
     "output_type": "execute_result"
    }
   ],
   "source": [
    "year = a[:4]\n",
    "day = a[4:8]\n",
    "year,day"
   ]
  },
  {
   "cell_type": "code",
   "execution_count": 194,
   "id": "ba7c0bb3-0b70-4e15-a064-695742735745",
   "metadata": {},
   "outputs": [
    {
     "ename": "TypeError",
     "evalue": "'str' object does not support item assignment",
     "output_type": "error",
     "traceback": [
      "\u001b[0;31m---------------------------------------------------------------------------\u001b[0m",
      "\u001b[0;31mTypeError\u001b[0m                                 Traceback (most recent call last)",
      "Cell \u001b[0;32mIn[194], line 3\u001b[0m\n\u001b[1;32m      1\u001b[0m \u001b[38;5;66;03m#문자열을 변ㄱ졍할 수 있을까?\u001b[39;00m\n\u001b[1;32m      2\u001b[0m a\u001b[38;5;241m=\u001b[39m\u001b[38;5;124m\"\u001b[39m\u001b[38;5;124mpithon\u001b[39m\u001b[38;5;124m\"\u001b[39m\n\u001b[0;32m----> 3\u001b[0m a[\u001b[38;5;241m1\u001b[39m] \u001b[38;5;241m=\u001b[39m \u001b[38;5;124m\"\u001b[39m\u001b[38;5;124my\u001b[39m\u001b[38;5;124m\"\u001b[39m\n",
      "\u001b[0;31mTypeError\u001b[0m: 'str' object does not support item assignment"
     ]
    }
   ],
   "source": [
    "#문자열을 변ㄱ졍할 수 있을까?\n",
    "a=\"pithon\"\n",
    "a[1] = \"y\""
   ]
  },
  {
   "cell_type": "code",
   "execution_count": 208,
   "id": "d62e9f34-961f-4e04-835c-12f6036325c4",
   "metadata": {},
   "outputs": [
    {
     "data": {
      "text/plain": [
       "'python'"
      ]
     },
     "execution_count": 208,
     "metadata": {},
     "output_type": "execute_result"
    }
   ],
   "source": [
    "a[:1] + \"y\"+ a[2:6]"
   ]
  },
  {
   "cell_type": "markdown",
   "id": "cfd0c162-5992-4e0e-bfae-bff108fa80c1",
   "metadata": {},
   "source": [
    "# 문자열 포매팅"
   ]
  },
  {
   "cell_type": "code",
   "execution_count": 213,
   "id": "a69d5b80-3cb9-4851-b947-7c8bf6ad97da",
   "metadata": {},
   "outputs": [
    {
     "data": {
      "text/plain": [
       "'I eat 3 apples'"
      ]
     },
     "execution_count": 213,
     "metadata": {},
     "output_type": "execute_result"
    }
   ],
   "source": [
    "\"I eat %d apples\"%3"
   ]
  },
  {
   "cell_type": "code",
   "execution_count": 221,
   "id": "aa4f4438-d984-4ea2-aa57-5adac88ab285",
   "metadata": {},
   "outputs": [
    {
     "data": {
      "text/plain": [
       "'I eat five apples'"
      ]
     },
     "execution_count": 221,
     "metadata": {},
     "output_type": "execute_result"
    }
   ],
   "source": [
    "\"I eat %s apples\"%\"five\""
   ]
  },
  {
   "cell_type": "code",
   "execution_count": 223,
   "id": "77a7f105-5552-433c-92ab-6915295c31a9",
   "metadata": {},
   "outputs": [
    {
     "data": {
      "text/plain": [
       "'I eat 3 apples'"
      ]
     },
     "execution_count": 223,
     "metadata": {},
     "output_type": "execute_result"
    }
   ],
   "source": [
    "number = 3\n",
    "\"I eat %s apples\"%number"
   ]
  },
  {
   "cell_type": "code",
   "execution_count": 225,
   "id": "18699ad1-1fe0-4608-8d52-019050f3b4ba",
   "metadata": {},
   "outputs": [
    {
     "data": {
      "text/plain": [
       "'I ate 10 apples. so I was sick for three days.'"
      ]
     },
     "execution_count": 225,
     "metadata": {},
     "output_type": "execute_result"
    }
   ],
   "source": [
    "number = 10\n",
    "day = \"three\"\n",
    "\"I ate %d apples. so I was sick for %s days.\"%(number,day)"
   ]
  },
  {
   "cell_type": "code",
   "execution_count": 233,
   "id": "f4f823a8-fecf-4fa0-a132-07ee4282dea4",
   "metadata": {},
   "outputs": [
    {
     "data": {
      "text/plain": [
       "'error is 98%'"
      ]
     },
     "execution_count": 233,
     "metadata": {},
     "output_type": "execute_result"
    }
   ],
   "source": [
    "# error is 98%\n",
    "\"error is %d%%\"%98"
   ]
  },
  {
   "cell_type": "code",
   "execution_count": 235,
   "id": "1005baae-0557-408b-86f3-461ba837c18a",
   "metadata": {},
   "outputs": [
    {
     "data": {
      "text/plain": [
       "'3.42'"
      ]
     },
     "execution_count": 235,
     "metadata": {},
     "output_type": "execute_result"
    }
   ],
   "source": [
    "# 소수점 표현하기 \n",
    "\"%0.2f\"%3.42134234"
   ]
  },
  {
   "cell_type": "markdown",
   "id": "f9873132-0901-4ba4-a689-14d4056a8b1a",
   "metadata": {},
   "source": [
    "# 포맷함수를 사용한 포매팅"
   ]
  },
  {
   "cell_type": "code",
   "execution_count": 240,
   "id": "ec96de06-5d4c-4cba-ab5e-e752fa8023b8",
   "metadata": {},
   "outputs": [
    {
     "data": {
      "text/plain": [
       "'I EAT 3 APPLES'"
      ]
     },
     "execution_count": 240,
     "metadata": {},
     "output_type": "execute_result"
    }
   ],
   "source": [
    "\"I EAT {0} APPLES\".format(3)"
   ]
  },
  {
   "cell_type": "code",
   "execution_count": 242,
   "id": "0cc46622-fc4f-4471-bbfb-ba01a806bd9e",
   "metadata": {},
   "outputs": [
    {
     "data": {
      "text/plain": [
       "'I EAT five APPLES'"
      ]
     },
     "execution_count": 242,
     "metadata": {},
     "output_type": "execute_result"
    }
   ],
   "source": [
    "\"I EAT {0} APPLES\".format(\"five\")"
   ]
  },
  {
   "cell_type": "code",
   "execution_count": 248,
   "id": "e3c0f7cb-e3a6-4e73-9c3f-7f2200a99c77",
   "metadata": {},
   "outputs": [
    {
     "data": {
      "text/plain": [
       "'I ATE 10 APPLES. SO I WAS SICK FOR three DAYS'"
      ]
     },
     "execution_count": 248,
     "metadata": {},
     "output_type": "execute_result"
    }
   ],
   "source": [
    "\"I ATE {} APPLES. SO I WAS SICK FOR {} DAYS\".format(number, day)"
   ]
  },
  {
   "cell_type": "code",
   "execution_count": 250,
   "id": "6eb2f1e2-d2c7-421c-810a-323e1adc0aef",
   "metadata": {},
   "outputs": [
    {
     "data": {
      "text/plain": [
       "'I ATE 10 APPLES. SO I WAS SICK FOR three DAYS'"
      ]
     },
     "execution_count": 250,
     "metadata": {},
     "output_type": "execute_result"
    }
   ],
   "source": [
    "\"I ATE {a} APPLES. SO I WAS SICK FOR {b} DAYS\".format(a=number, b=day)"
   ]
  },
  {
   "cell_type": "code",
   "execution_count": 252,
   "id": "7d984d28-3050-4fb3-9ce3-292a44bcf848",
   "metadata": {},
   "outputs": [
    {
     "data": {
      "text/plain": [
       "'I ATE 10 APPLES. SO I WAS SICK FOR three DAYS'"
      ]
     },
     "execution_count": 252,
     "metadata": {},
     "output_type": "execute_result"
    }
   ],
   "source": [
    "\"I ATE {a} APPLES. SO I WAS SICK FOR {b} DAYS\".format(b=day,a=number)"
   ]
  },
  {
   "cell_type": "code",
   "execution_count": 254,
   "id": "7ee20470-502a-4cfe-9019-3e66129cc734",
   "metadata": {},
   "outputs": [
    {
     "data": {
      "text/plain": [
       "'3.4123'"
      ]
     },
     "execution_count": 254,
     "metadata": {},
     "output_type": "execute_result"
    }
   ],
   "source": [
    "y= 3.4123434\n",
    "\"{0:0.4f}\".format(y)"
   ]
  },
  {
   "cell_type": "code",
   "execution_count": 256,
   "id": "11949553-22f5-4d3b-8818-f1d706051810",
   "metadata": {},
   "outputs": [
    {
     "data": {
      "text/plain": [
       "'{and}'"
      ]
     },
     "execution_count": 256,
     "metadata": {},
     "output_type": "execute_result"
    }
   ],
   "source": [
    "\"{{and}}\".format()"
   ]
  },
  {
   "cell_type": "markdown",
   "id": "1a087c87-ec9f-4342-834d-5f04b4d60d06",
   "metadata": {},
   "source": [
    "# f 문자열 포매팅"
   ]
  },
  {
   "cell_type": "code",
   "execution_count": 263,
   "id": "a29d1a51-d62c-46a5-b05f-d1ab1859bd20",
   "metadata": {},
   "outputs": [
    {
     "data": {
      "text/plain": [
       "'나의 이름은 홍길동입니다. 나이는 30살입니다.'"
      ]
     },
     "execution_count": 263,
     "metadata": {},
     "output_type": "execute_result"
    }
   ],
   "source": [
    "name = '홍길동'\n",
    "age = 30 \n",
    "'나의 이름은 {a}입니다. 나이는 {b}살입니다.'.format(a=name, b=age)"
   ]
  },
  {
   "cell_type": "code",
   "execution_count": 271,
   "id": "106b9f3e-5153-43cd-99c2-1f57c1541e8a",
   "metadata": {},
   "outputs": [
    {
     "data": {
      "text/plain": [
       "'나의 이름은 홍길동입니다. 나이는 30살입니다.'"
      ]
     },
     "execution_count": 271,
     "metadata": {},
     "output_type": "execute_result"
    }
   ],
   "source": [
    "f'나의 이름은 {name}입니다. 나이는 {age}살입니다.'"
   ]
  },
  {
   "cell_type": "code",
   "execution_count": 275,
   "id": "9660e543-e053-47a5-b1c6-1e0431887773",
   "metadata": {},
   "outputs": [
    {
     "data": {
      "text/plain": [
       "{'name': '홍길동', 'age': 30}"
      ]
     },
     "execution_count": 275,
     "metadata": {},
     "output_type": "execute_result"
    }
   ],
   "source": [
    "d = {'name':'홍길동', 'age':30}\n",
    "d"
   ]
  },
  {
   "cell_type": "code",
   "execution_count": 277,
   "id": "e3cf6436-6aeb-4c15-913e-05898af1c1af",
   "metadata": {},
   "outputs": [
    {
     "data": {
      "text/plain": [
       "'홍길동'"
      ]
     },
     "execution_count": 277,
     "metadata": {},
     "output_type": "execute_result"
    }
   ],
   "source": [
    "d['name']"
   ]
  },
  {
   "cell_type": "code",
   "execution_count": 283,
   "id": "9e26150b-1233-437a-afd0-93ed9b8da17f",
   "metadata": {},
   "outputs": [
    {
     "data": {
      "text/plain": [
       "'나의 이름은 홍길동입니다. 나이는 30살입니다.'"
      ]
     },
     "execution_count": 283,
     "metadata": {},
     "output_type": "execute_result"
    }
   ],
   "source": [
    "f\"나의 이름은 {d['name']}입니다. 나이는 {d['age']}살입니다.\""
   ]
  },
  {
   "cell_type": "code",
   "execution_count": 287,
   "id": "c72625ab-ee95-442b-977e-b2e6b546bb28",
   "metadata": {},
   "outputs": [
    {
     "data": {
      "text/plain": [
       "'3.4123'"
      ]
     },
     "execution_count": 287,
     "metadata": {},
     "output_type": "execute_result"
    }
   ],
   "source": [
    "y\n",
    "f'{y:0.4f}'"
   ]
  },
  {
   "cell_type": "markdown",
   "id": "dc2401ad-7df9-41fd-8360-292dddfc4f18",
   "metadata": {},
   "source": [
    "# 문자열 관련 함수들"
   ]
  },
  {
   "cell_type": "code",
   "execution_count": 294,
   "id": "bdaf138d-3dd3-4221-bc56-82f21299a3ce",
   "metadata": {},
   "outputs": [
    {
     "data": {
      "text/plain": [
       "5"
      ]
     },
     "execution_count": 294,
     "metadata": {},
     "output_type": "execute_result"
    }
   ],
   "source": [
    "a = 'hobby'\n",
    "len(a)"
   ]
  },
  {
   "cell_type": "code",
   "execution_count": 296,
   "id": "65653ae5-9877-4566-b411-a1a5bc075d32",
   "metadata": {},
   "outputs": [
    {
     "data": {
      "text/plain": [
       "2"
      ]
     },
     "execution_count": 296,
     "metadata": {},
     "output_type": "execute_result"
    }
   ],
   "source": [
    "#특정 문자열 개수를 세기 \n",
    "a = 'hobby'\n",
    "a.count('b')"
   ]
  },
  {
   "cell_type": "code",
   "execution_count": 306,
   "id": "0f72c79f-1214-408f-b4af-8a7d588559ef",
   "metadata": {},
   "outputs": [
    {
     "data": {
      "text/plain": [
       "14"
      ]
     },
     "execution_count": 306,
     "metadata": {},
     "output_type": "execute_result"
    }
   ],
   "source": [
    "#위치 알려주기 \n",
    "a = 'python is the best choice'\n",
    "a.find('b')"
   ]
  },
  {
   "cell_type": "code",
   "execution_count": 308,
   "id": "7df15457-4398-4593-b06e-041ad487b2ae",
   "metadata": {},
   "outputs": [
    {
     "data": {
      "text/plain": [
       "\u001b[0;31mDocstring:\u001b[0m\n",
       "S.find(sub[, start[, end]]) -> int\n",
       "\n",
       "Return the lowest index in S where substring sub is found,\n",
       "such that sub is contained within S[start:end].  Optional\n",
       "arguments start and end are interpreted as in slice notation.\n",
       "\n",
       "Return -1 on failure.\n",
       "\u001b[0;31mType:\u001b[0m      builtin_function_or_method"
      ]
     },
     "metadata": {},
     "output_type": "display_data"
    }
   ],
   "source": [
    "a.find?"
   ]
  },
  {
   "cell_type": "code",
   "execution_count": 312,
   "id": "ad49c23c-330b-40d8-ab05-108a9b2ff342",
   "metadata": {},
   "outputs": [
    {
     "data": {
      "text/plain": [
       "(8, 8)"
      ]
     },
     "execution_count": 312,
     "metadata": {},
     "output_type": "execute_result"
    }
   ],
   "source": [
    "#위치 알려주기1\n",
    "a= 'life is too short'\n",
    "a.index('t'), a.find('t')"
   ]
  },
  {
   "cell_type": "code",
   "execution_count": 314,
   "id": "693fadf1-b0a1-4c4a-a324-d3b58695aace",
   "metadata": {},
   "outputs": [
    {
     "ename": "ValueError",
     "evalue": "substring not found",
     "output_type": "error",
     "traceback": [
      "\u001b[0;31m---------------------------------------------------------------------------\u001b[0m",
      "\u001b[0;31mValueError\u001b[0m                                Traceback (most recent call last)",
      "Cell \u001b[0;32mIn[314], line 1\u001b[0m\n\u001b[0;32m----> 1\u001b[0m a\u001b[38;5;241m.\u001b[39mindex(\u001b[38;5;124m'\u001b[39m\u001b[38;5;124mk\u001b[39m\u001b[38;5;124m'\u001b[39m)\n",
      "\u001b[0;31mValueError\u001b[0m: substring not found"
     ]
    }
   ],
   "source": [
    "a.index('k')"
   ]
  },
  {
   "cell_type": "code",
   "execution_count": 316,
   "id": "b362b540-03a4-4b32-ae05-90f8ab4ccc49",
   "metadata": {},
   "outputs": [
    {
     "data": {
      "text/plain": [
       "-1"
      ]
     },
     "execution_count": 316,
     "metadata": {},
     "output_type": "execute_result"
    }
   ],
   "source": [
    "a.find('k')"
   ]
  },
  {
   "cell_type": "code",
   "execution_count": 318,
   "id": "6712f0ef-7e2f-4759-8465-9c89bc99f053",
   "metadata": {},
   "outputs": [
    {
     "data": {
      "text/plain": [
       "'abcd'"
      ]
     },
     "execution_count": 318,
     "metadata": {},
     "output_type": "execute_result"
    }
   ],
   "source": [
    "# 문자열 삽입 join \n",
    "'abcd'"
   ]
  },
  {
   "cell_type": "code",
   "execution_count": 320,
   "id": "e974a9a1-0b69-4917-a28a-1ded4f4477fc",
   "metadata": {},
   "outputs": [
    {
     "data": {
      "text/plain": [
       "'a,b,c,d'"
      ]
     },
     "execution_count": 320,
     "metadata": {},
     "output_type": "execute_result"
    }
   ],
   "source": [
    "# 반드시 문자열로 반환\n",
    "','.join('abcd')"
   ]
  },
  {
   "cell_type": "code",
   "execution_count": 324,
   "id": "534a8835-03bd-4ba4-9348-30f0cc1f2545",
   "metadata": {},
   "outputs": [
    {
     "data": {
      "text/plain": [
       "('HI', 'hi')"
      ]
     },
     "execution_count": 324,
     "metadata": {},
     "output_type": "execute_result"
    }
   ],
   "source": [
    "a = \"hi\"\n",
    "a.upper(), a.lower()"
   ]
  },
  {
   "cell_type": "code",
   "execution_count": 336,
   "id": "9d09b673-6668-455b-a353-44629bf579b4",
   "metadata": {},
   "outputs": [
    {
     "data": {
      "text/plain": [
       "('   hi', 'hi    ', 'hi')"
      ]
     },
     "execution_count": 336,
     "metadata": {},
     "output_type": "execute_result"
    }
   ],
   "source": [
    "# 공백 지우기 \n",
    "a = \"   hi    \"\n",
    "a.rstrip(), a.lstrip(), a.strip()"
   ]
  },
  {
   "cell_type": "code",
   "execution_count": 338,
   "id": "c7a488ff-791d-4220-8af1-76bd3b8edcf3",
   "metadata": {},
   "outputs": [
    {
     "data": {
      "text/plain": [
       "'YOUR LEG is too short'"
      ]
     },
     "execution_count": 338,
     "metadata": {},
     "output_type": "execute_result"
    }
   ],
   "source": [
    "a = \"life is too short\"\n",
    "a.replace (\"life\", \"YOUR LEG\")"
   ]
  },
  {
   "cell_type": "code",
   "execution_count": 340,
   "id": "fb630248-0d78-4d08-a5aa-64d95174bdb3",
   "metadata": {},
   "outputs": [
    {
     "data": {
      "text/plain": [
       "['life', 'is', 'too', 'short']"
      ]
     },
     "execution_count": 340,
     "metadata": {},
     "output_type": "execute_result"
    }
   ],
   "source": [
    "#문자열 나누기 \n",
    "a.split() #리스트로 반환해줌"
   ]
  },
  {
   "cell_type": "code",
   "execution_count": 348,
   "id": "33c33b58-cf8a-42a2-a4ed-1a82ed89feac",
   "metadata": {},
   "outputs": [
    {
     "data": {
      "text/plain": [
       "['a:b:c:d']"
      ]
     },
     "execution_count": 348,
     "metadata": {},
     "output_type": "execute_result"
    }
   ],
   "source": [
    "b = \"a:b:c:d\"\n",
    "b.split('\b:')"
   ]
  },
  {
   "cell_type": "code",
   "execution_count": null,
   "id": "54fcda17-5340-4c1a-926c-19ac7dece574",
   "metadata": {},
   "outputs": [],
   "source": []
  },
  {
   "cell_type": "code",
   "execution_count": null,
   "id": "365476c5-f0bb-41c5-8286-1be85df43064",
   "metadata": {},
   "outputs": [],
   "source": []
  },
  {
   "cell_type": "code",
   "execution_count": null,
   "id": "db62f682-65f6-4905-87d2-234931125f0d",
   "metadata": {},
   "outputs": [],
   "source": []
  },
  {
   "cell_type": "code",
   "execution_count": null,
   "id": "9548b921-f459-49c7-9f7d-ef4a33ed0dc4",
   "metadata": {},
   "outputs": [],
   "source": []
  },
  {
   "cell_type": "code",
   "execution_count": null,
   "id": "bea33ddc-54d7-4ce8-9fd4-bd88d3ebe534",
   "metadata": {},
   "outputs": [],
   "source": []
  },
  {
   "cell_type": "code",
   "execution_count": null,
   "id": "27db9103-5308-47eb-94dc-ac762718eaae",
   "metadata": {},
   "outputs": [],
   "source": []
  }
 ],
 "metadata": {
  "kernelspec": {
   "display_name": "Python 3 (ipykernel)",
   "language": "python",
   "name": "python3"
  },
  "language_info": {
   "codemirror_mode": {
    "name": "ipython",
    "version": 3
   },
   "file_extension": ".py",
   "mimetype": "text/x-python",
   "name": "python",
   "nbconvert_exporter": "python",
   "pygments_lexer": "ipython3",
   "version": "3.12.4"
  }
 },
 "nbformat": 4,
 "nbformat_minor": 5
}
