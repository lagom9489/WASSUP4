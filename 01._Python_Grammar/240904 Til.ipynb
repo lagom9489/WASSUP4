{
 "cells": [
  {
   "cell_type": "code",
   "execution_count": 1,
   "id": "45f30b35-642e-4f65-9533-faab8aee9b68",
   "metadata": {},
   "outputs": [
    {
     "name": "stdout",
     "output_type": "stream",
     "text": [
      "hello world\n"
     ]
    }
   ],
   "source": [
    "# 1. 화면에 hello world 문자열을 출력하세요.\n",
    "\n",
    "print ('hello world')"
   ]
  },
  {
   "cell_type": "code",
   "execution_count": 5,
   "id": "4961325f-fa42-4aac-98b7-258e051ac6a6",
   "metadata": {},
   "outputs": [
    {
     "name": "stdout",
     "output_type": "stream",
     "text": [
      "naver;kakao;sk;samsung\n"
     ]
    }
   ],
   "source": [
    "# 7. print() 함수를 사용하여 다음과 같이 출력하세요 \n",
    "\n",
    "# naver;kakao;sk;samsung\n",
    "\n",
    "print(\"naver;kakao;sk;samsung\")"
   ]
  },
  {
   "cell_type": "code",
   "execution_count": null,
   "id": "6d97f1f0-f94a-4ba0-a6f0-8c1e9a3cc021",
   "metadata": {},
   "outputs": [],
   "source": [
    "#2. 화면에 Mary's cosmetics을 출력하세요. (중간에 '가 있음에 주의하세요)"
   ]
  },
  {
   "cell_type": "code",
   "execution_count": 1,
   "id": "ffbeba86-cb17-4094-9d8b-ef8f859553c5",
   "metadata": {},
   "outputs": [
    {
     "name": "stdout",
     "output_type": "stream",
     "text": [
      "Mary's cosmetics\n"
     ]
    }
   ],
   "source": [
    "print (\"Mary's cosmetics\")"
   ]
  },
  {
   "cell_type": "code",
   "execution_count": null,
   "id": "d639d3b1-7b6c-4f4f-ba1b-c6bf252a02c6",
   "metadata": {},
   "outputs": [],
   "source": [
    "# 3. 화면에 아래 문장을 출력하세요. (중간에 \"가 있음에 주의하세요.)\n",
    "# 신씨가 소리질렀다. \"도둑이야\"."
   ]
  },
  {
   "cell_type": "code",
   "execution_count": 3,
   "id": "b5ab886d-1bb4-4027-a747-119aafadcf25",
   "metadata": {},
   "outputs": [
    {
     "name": "stdout",
     "output_type": "stream",
     "text": [
      "신씨가 소리질렀다. \"도둑이야\".\n"
     ]
    }
   ],
   "source": [
    "print ('''신씨가 소리질렀다. \"도둑이야\".''')"
   ]
  },
  {
   "cell_type": "code",
   "execution_count": null,
   "id": "a03682f4-58bf-4a7d-a1f4-47b63cca20d0",
   "metadata": {},
   "outputs": [],
   "source": [
    "#4. 화면에 C:\\Windows를 출력하세요."
   ]
  },
  {
   "cell_type": "code",
   "execution_count": 11,
   "id": "3485c65c-f0b5-48ba-b7f6-5950c42df6ca",
   "metadata": {},
   "outputs": [
    {
     "name": "stdout",
     "output_type": "stream",
     "text": [
      "C:\\Windows\n"
     ]
    },
    {
     "name": "stderr",
     "output_type": "stream",
     "text": [
      "<>:1: SyntaxWarning: invalid escape sequence '\\W'\n",
      "<>:1: SyntaxWarning: invalid escape sequence '\\W'\n",
      "/var/folders/10/8n5gt9b51l79f63jwf8v3j540000gn/T/ipykernel_66400/3538380946.py:1: SyntaxWarning: invalid escape sequence '\\W'\n",
      "  print(\"C:\\Windows\")\n"
     ]
    }
   ],
   "source": [
    "print(\"C:\\Windows\")"
   ]
  },
  {
   "cell_type": "code",
   "execution_count": null,
   "id": "808b7ed0-9dc9-4799-a416-b73fb4691b7b",
   "metadata": {},
   "outputs": [],
   "source": [
    "#5. 다음 코드를 실행해보고 \\t와 \\n의 역할을 설명해보세요.\n",
    "#print(\"안녕하세요.\\n만나서\\t\\t반갑습니다.\")\n",
    "# \\n : 줄바꿈, \\t : 탭"
   ]
  },
  {
   "cell_type": "code",
   "execution_count": 13,
   "id": "77483b53-9029-44fc-b742-8668bb7f9088",
   "metadata": {},
   "outputs": [
    {
     "name": "stdout",
     "output_type": "stream",
     "text": [
      "안녕하세요.\n",
      "만나서\t\t반갑습니다.\n"
     ]
    }
   ],
   "source": [
    "print(\"안녕하세요.\\n만나서\\t\\t반갑습니다.\")"
   ]
  },
  {
   "cell_type": "code",
   "execution_count": null,
   "id": "68d0e764-68e9-4c86-9b12-10e207e43c96",
   "metadata": {},
   "outputs": [],
   "source": [
    "#6. print 함수에 두 개의 단어를 입력한 예제입니다. 아래 코드의 출력 결과를 예상해봅시다.\n",
    "print (\"오늘은\", \"일요일\")\n",
    "#오늘은 일요일\n"
   ]
  },
  {
   "cell_type": "code",
   "execution_count": 15,
   "id": "5d581a83-ed48-4c20-8873-dce82682fed8",
   "metadata": {},
   "outputs": [
    {
     "name": "stdout",
     "output_type": "stream",
     "text": [
      "오늘은 일요일\n"
     ]
    }
   ],
   "source": [
    "print (\"오늘은\", \"일요일\")"
   ]
  },
  {
   "cell_type": "code",
   "execution_count": null,
   "id": "1b64458a-87d3-4b0b-b267-0b3ccd24aec7",
   "metadata": {},
   "outputs": [],
   "source": [
    "#8.print() 함수를 사용하여 다음과 같이 출력하세요.\n",
    "# naver/kakao/sk/samsung"
   ]
  },
  {
   "cell_type": "code",
   "execution_count": 17,
   "id": "90f7c632-2c35-41d5-97e3-e901a1dbfcd9",
   "metadata": {},
   "outputs": [
    {
     "name": "stdout",
     "output_type": "stream",
     "text": [
      "naver/kakao/sk/samsung\n"
     ]
    }
   ],
   "source": [
    "print(\"naver/kakao/sk/samsung\")"
   ]
  },
  {
   "cell_type": "code",
   "execution_count": null,
   "id": "e508fd77-db07-42e4-8110-975e637b3bd7",
   "metadata": {},
   "outputs": [],
   "source": [
    "# 9.다음 코드를 수정하여 줄바꿈이 없이 출력하세요. (힌트: end='') print 함수는 두 번 사용합니다. 세미콜론 (;)은 한줄에 여러 개의 명령을 작성하기 위해 사용합니다.\n",
    "# print(\"first\");print(\"second\")"
   ]
  },
  {
   "cell_type": "code",
   "execution_count": 25,
   "id": "f3621e5c-0c33-48ab-a61a-f29d59cbe142",
   "metadata": {},
   "outputs": [
    {
     "name": "stdout",
     "output_type": "stream",
     "text": [
      "firstsecond\n"
     ]
    }
   ],
   "source": [
    "print(\"first\"\"second\")"
   ]
  },
  {
   "cell_type": "code",
   "execution_count": 23,
   "id": "ad646731-ba33-488c-b4de-d77db92741dd",
   "metadata": {},
   "outputs": [
    {
     "name": "stdout",
     "output_type": "stream",
     "text": [
      "firstsecond\n"
     ]
    }
   ],
   "source": [
    "print(\"first\", end=\"\"); print(\"second\")"
   ]
  },
  {
   "cell_type": "code",
   "execution_count": null,
   "id": "d0d8af9a-3fdd-4a6c-9626-c8144dd19c91",
   "metadata": {},
   "outputs": [],
   "source": [
    "# 10. 5/3의 결과를 화면에 출력하세요"
   ]
  },
  {
   "cell_type": "code",
   "execution_count": 27,
   "id": "f4bb4e38-2eea-4023-95d3-9dd59e3620ef",
   "metadata": {},
   "outputs": [
    {
     "name": "stdout",
     "output_type": "stream",
     "text": [
      "1.6666666666666667\n"
     ]
    }
   ],
   "source": [
    "print (5/3)"
   ]
  },
  {
   "cell_type": "code",
   "execution_count": null,
   "id": "eab880cf-0c3a-4478-87bd-aed7d5619dfc",
   "metadata": {},
   "outputs": [],
   "source": [
    "# 11. 삼성전자라는 변수로 50,000원을 바인딩해보세요. 삼성전자 주식 10주를 보유하고 있을 때 총 평가금액을 출력하세요."
   ]
  },
  {
   "cell_type": "code",
   "execution_count": 33,
   "id": "124e17c7-8bf2-41a8-9f94-5a7244899f1e",
   "metadata": {},
   "outputs": [
    {
     "name": "stdout",
     "output_type": "stream",
     "text": [
      "500000\n"
     ]
    }
   ],
   "source": [
    "삼성전자 = 50000\n",
    "총평가금액 = 삼성전자*10\n",
    "print(총평가금액)"
   ]
  },
  {
   "cell_type": "code",
   "execution_count": null,
   "id": "4f128907-922f-468e-99e5-b7f17ee8eaaf",
   "metadata": {},
   "outputs": [],
   "source": [
    "# 12. 다음 표는 삼성전자의 일부 투자정보입니다. 변수를 사용해서 시가총액, 현재가, PER 등을 바인딩해보세요.\n",
    "\n",
    "# 항목\t값\n",
    "# 시가총액\t298조\n",
    "# 현재가\t50,000원\n",
    "# PER\t15.79\n",
    "\n",
    "# 바인딩 뜻?"
   ]
  },
  {
   "cell_type": "code",
   "execution_count": 35,
   "id": "b0eb68da-a83b-47b6-a018-5753799ba1a8",
   "metadata": {},
   "outputs": [
    {
     "name": "stdout",
     "output_type": "stream",
     "text": [
      "298조 50,000원 15.79\n"
     ]
    }
   ],
   "source": [
    "시가총액 = \"298조\"\n",
    "현재가 = \"50,000원\"\n",
    "PER = 15.79\n",
    "print (시가총액, 현재가, PER)"
   ]
  },
  {
   "cell_type": "code",
   "execution_count": 37,
   "id": "018ad62a-c975-4e65-b2bd-07577773cbbe",
   "metadata": {},
   "outputs": [
    {
     "name": "stdout",
     "output_type": "stream",
     "text": [
      "298000000000000 <class 'int'>\n",
      "50000 <class 'int'>\n",
      "15.79 <class 'float'>\n"
     ]
    }
   ],
   "source": [
    "시가총액 = 298000000000000\n",
    "현재가 = 50000\n",
    "PER = 15.79\n",
    "print(시가총액, type(시가총액))\n",
    "print(현재가, type(현재가))\n",
    "print(PER, type(PER))"
   ]
  },
  {
   "cell_type": "code",
   "execution_count": null,
   "id": "0d2253ec-1ca4-4fd6-a80f-f8b7c8a801b7",
   "metadata": {},
   "outputs": [],
   "source": [
    "# 13.변수 s와 t에는 각각 문자열이 바인딩 되어있습니다.\n",
    "# >> s = \"hello\"\n",
    "# >> t = \"python\n",
    "\n",
    "# 두 변수를 이용하여 아래와 같이 출력해보세요.\n",
    "# hello! python"
   ]
  },
  {
   "cell_type": "code",
   "execution_count": 51,
   "id": "d00ec919-0b56-4f4c-8795-ba5e75fd73ea",
   "metadata": {},
   "outputs": [
    {
     "name": "stdout",
     "output_type": "stream",
     "text": [
      "hello! python\n"
     ]
    }
   ],
   "source": [
    "s=\"hello\"\n",
    "t=\"python\"\n",
    "print (s+\"!\", t)"
   ]
  },
  {
   "cell_type": "code",
   "execution_count": null,
   "id": "0d7098c5-1d06-4b19-9fde-a8e7fb95ce0e",
   "metadata": {},
   "outputs": [],
   "source": [
    "# 14.아래 코드의 실행 결과를 예상해보세요.\n",
    "# >> 2 + 2 * 3 \n",
    "# >> 8"
   ]
  },
  {
   "cell_type": "code",
   "execution_count": 53,
   "id": "9abd6c37-ae26-40c5-bfe7-b0a993879be5",
   "metadata": {},
   "outputs": [
    {
     "data": {
      "text/plain": [
       "8"
      ]
     },
     "execution_count": 53,
     "metadata": {},
     "output_type": "execute_result"
    }
   ],
   "source": [
    "2 + 2 * 3 "
   ]
  },
  {
   "cell_type": "code",
   "execution_count": null,
   "id": "3ebb7896-1676-4015-98af-314ef8e6cccf",
   "metadata": {},
   "outputs": [],
   "source": [
    "# 15. type() 함수는 데이터 타입을 판별합니다. 변수 a에는 128 숫자가 바인딩돼 있어 type 함수가 int (정수)형임을 알려줍니다.\n",
    "# >> a = 128\n",
    "# >> print (type(a))\n",
    "# <class 'int'>\n",
    "\n",
    "# 아래 변수에 바인딩된 값의 타입을 판별해보세요.\n",
    "# >> a = \"132\"\n",
    "# >> 문자열 "
   ]
  },
  {
   "cell_type": "code",
   "execution_count": 55,
   "id": "353c4d33-85de-487e-86e6-0de9275cba49",
   "metadata": {},
   "outputs": [
    {
     "name": "stdout",
     "output_type": "stream",
     "text": [
      "<class 'str'>\n"
     ]
    }
   ],
   "source": [
    "a= \"132\"\n",
    "print(type(a))"
   ]
  },
  {
   "cell_type": "code",
   "execution_count": null,
   "id": "7579fa32-e6f2-4d4d-8943-e1e564289a32",
   "metadata": {},
   "outputs": [],
   "source": [
    "# 16. 문자열 '720'를 정수형으로 변환해보세요.\n",
    "# >> num_str = \"720\""
   ]
  },
  {
   "cell_type": "code",
   "execution_count": null,
   "id": "9ec3c1b0-7d92-4a48-a946-4bebaf8e3351",
   "metadata": {},
   "outputs": [],
   "source": [
    "# 잘 모르겠음."
   ]
  },
  {
   "cell_type": "code",
   "execution_count": null,
   "id": "31009a4d-dacc-4954-a12d-81d8c1f82264",
   "metadata": {},
   "outputs": [],
   "source": [
    "# 17. 정수 100을 문자열 '100'으로 변환해보세요\n",
    "# num = 100 "
   ]
  },
  {
   "cell_type": "code",
   "execution_count": 59,
   "id": "d0016ec7-8522-4bb7-9374-1439cf02ceda",
   "metadata": {},
   "outputs": [
    {
     "name": "stdout",
     "output_type": "stream",
     "text": [
      "100 <class 'str'>\n"
     ]
    }
   ],
   "source": [
    "num = 100 \n",
    "result = str(num) \n",
    "print(result, type(result))"
   ]
  },
  {
   "cell_type": "code",
   "execution_count": null,
   "id": "2fbbfc51-35ff-4803-9a7d-63d8d1ad8d7f",
   "metadata": {},
   "outputs": [],
   "source": [
    "# 18. 문자열 \"15.79\"를 실수(float) 타입으로 변환해보세요."
   ]
  },
  {
   "cell_type": "code",
   "execution_count": 61,
   "id": "42fb9762-1568-4a44-b4fd-b71201fb9f23",
   "metadata": {},
   "outputs": [
    {
     "name": "stdout",
     "output_type": "stream",
     "text": [
      "15.79 <class 'float'>\n"
     ]
    }
   ],
   "source": [
    "str = \"15.79\"\n",
    "result = float(str)\n",
    "print(result, type(result))"
   ]
  },
  {
   "cell_type": "code",
   "execution_count": null,
   "id": "41cc8f69-16f2-4104-8871-f64acf19749c",
   "metadata": {},
   "outputs": [],
   "source": [
    "# 19. year라는 변수가 문자열 타입의 연도를 바인딩하고 있습니다. 이를 정수로 변환한 후 최근 3년의 연도를 화면에 출력해보세요.\n",
    "# year = \"2020\"\n"
   ]
  },
  {
   "cell_type": "code",
   "execution_count": 67,
   "id": "f7080a46-a8fc-482c-aafb-494cf84b4770",
   "metadata": {},
   "outputs": [
    {
     "name": "stdout",
     "output_type": "stream",
     "text": [
      "2024 2023 2022\n"
     ]
    }
   ],
   "source": [
    "year = \"2020\"\n",
    "result = int(year)\n",
    "print (result+4, result+3, result+2)"
   ]
  },
  {
   "cell_type": "code",
   "execution_count": null,
   "id": "17e01bea-3a5d-42fb-927e-4eef03c632ff",
   "metadata": {},
   "outputs": [],
   "source": [
    "# 20. 에이컨이 월 48,584원에 무이자 36개월의 조건으로 홈쇼핑에서 판매되고 있습니다. 총 금액은 계산한 후 이를 화면에 출력해보세요. (변수사용하기)"
   ]
  },
  {
   "cell_type": "code",
   "execution_count": 79,
   "id": "d5ff76f2-a739-4176-ba0c-0cd9cd5a7f78",
   "metadata": {},
   "outputs": [
    {
     "name": "stdout",
     "output_type": "stream",
     "text": [
      "1749024\n"
     ]
    }
   ],
   "source": [
    "price = 48584\n",
    "총금액 = price * 36\n",
    "print(총금액)"
   ]
  }
 ],
 "metadata": {
  "kernelspec": {
   "display_name": "Python 3 (ipykernel)",
   "language": "python",
   "name": "python3"
  },
  "language_info": {
   "codemirror_mode": {
    "name": "ipython",
    "version": 3
   },
   "file_extension": ".py",
   "mimetype": "text/x-python",
   "name": "python",
   "nbconvert_exporter": "python",
   "pygments_lexer": "ipython3",
   "version": "3.12.4"
  }
 },
 "nbformat": 4,
 "nbformat_minor": 5
}
