{
 "cells": [
  {
   "cell_type": "code",
   "execution_count": 1,
   "id": "45f30b35-642e-4f65-9533-faab8aee9b68",
   "metadata": {},
   "outputs": [
    {
     "name": "stdout",
     "output_type": "stream",
     "text": [
      "hello world\n"
     ]
    }
   ],
   "source": [
    "# 1. 화면에 hello world 문자열을 출력하세요.\n",
    "\n",
    "print ('hello world')"
   ]
  },
  {
   "cell_type": "code",
   "execution_count": 5,
   "id": "4961325f-fa42-4aac-98b7-258e051ac6a6",
   "metadata": {},
   "outputs": [
    {
     "name": "stdout",
     "output_type": "stream",
     "text": [
      "naver;kakao;sk;samsung\n"
     ]
    }
   ],
   "source": [
    "# 7. print() 함수를 사용하여 다음과 같이 출력하세요 \n",
    "\n",
    "# naver;kakao;sk;samsung\n",
    "\n",
    "print(\"naver;kakao;sk;samsung\")"
   ]
  },
  {
   "cell_type": "code",
   "execution_count": null,
   "id": "6d97f1f0-f94a-4ba0-a6f0-8c1e9a3cc021",
   "metadata": {},
   "outputs": [],
   "source": [
    "#2. 화면에 Mary's cosmetics을 출력하세요. (중간에 '가 있음에 주의하세요)"
   ]
  },
  {
   "cell_type": "code",
   "execution_count": 1,
   "id": "ffbeba86-cb17-4094-9d8b-ef8f859553c5",
   "metadata": {},
   "outputs": [
    {
     "name": "stdout",
     "output_type": "stream",
     "text": [
      "Mary's cosmetics\n"
     ]
    }
   ],
   "source": [
    "print (\"Mary's cosmetics\")"
   ]
  },
  {
   "cell_type": "code",
   "execution_count": null,
   "id": "d639d3b1-7b6c-4f4f-ba1b-c6bf252a02c6",
   "metadata": {},
   "outputs": [],
   "source": [
    "# 3. 화면에 아래 문장을 출력하세요. (중간에 \"가 있음에 주의하세요.)\n",
    "# 신씨가 소리질렀다. \"도둑이야\"."
   ]
  },
  {
   "cell_type": "code",
   "execution_count": 3,
   "id": "b5ab886d-1bb4-4027-a747-119aafadcf25",
   "metadata": {},
   "outputs": [
    {
     "name": "stdout",
     "output_type": "stream",
     "text": [
      "신씨가 소리질렀다. \"도둑이야\".\n"
     ]
    }
   ],
   "source": [
    "print ('''신씨가 소리질렀다. \"도둑이야\".''')"
   ]
  },
  {
   "cell_type": "code",
   "execution_count": null,
   "id": "a03682f4-58bf-4a7d-a1f4-47b63cca20d0",
   "metadata": {},
   "outputs": [],
   "source": [
    "#4. 화면에 C:\\Windows를 출력하세요."
   ]
  },
  {
   "cell_type": "code",
   "execution_count": 11,
   "id": "3485c65c-f0b5-48ba-b7f6-5950c42df6ca",
   "metadata": {},
   "outputs": [
    {
     "name": "stdout",
     "output_type": "stream",
     "text": [
      "C:\\Windows\n"
     ]
    },
    {
     "name": "stderr",
     "output_type": "stream",
     "text": [
      "<>:1: SyntaxWarning: invalid escape sequence '\\W'\n",
      "<>:1: SyntaxWarning: invalid escape sequence '\\W'\n",
      "/var/folders/10/8n5gt9b51l79f63jwf8v3j540000gn/T/ipykernel_66400/3538380946.py:1: SyntaxWarning: invalid escape sequence '\\W'\n",
      "  print(\"C:\\Windows\")\n"
     ]
    }
   ],
   "source": [
    "print(\"C:\\Windows\")"
   ]
  },
  {
   "cell_type": "code",
   "execution_count": null,
   "id": "808b7ed0-9dc9-4799-a416-b73fb4691b7b",
   "metadata": {},
   "outputs": [],
   "source": [
    "#5. 다음 코드를 실행해보고 \\t와 \\n의 역할을 설명해보세요.\n",
    "#print(\"안녕하세요.\\n만나서\\t\\t반갑습니다.\")\n",
    "# \\n : 줄바꿈, \\t : 탭"
   ]
  },
  {
   "cell_type": "code",
   "execution_count": 13,
   "id": "77483b53-9029-44fc-b742-8668bb7f9088",
   "metadata": {},
   "outputs": [
    {
     "name": "stdout",
     "output_type": "stream",
     "text": [
      "안녕하세요.\n",
      "만나서\t\t반갑습니다.\n"
     ]
    }
   ],
   "source": [
    "print(\"안녕하세요.\\n만나서\\t\\t반갑습니다.\")"
   ]
  },
  {
   "cell_type": "code",
   "execution_count": null,
   "id": "68d0e764-68e9-4c86-9b12-10e207e43c96",
   "metadata": {},
   "outputs": [],
   "source": [
    "#6. print 함수에 두 개의 단어를 입력한 예제입니다. 아래 코드의 출력 결과를 예상해봅시다.\n",
    "print (\"오늘은\", \"일요일\")\n",
    "#오늘은 일요일\n"
   ]
  },
  {
   "cell_type": "code",
   "execution_count": 15,
   "id": "5d581a83-ed48-4c20-8873-dce82682fed8",
   "metadata": {},
   "outputs": [
    {
     "name": "stdout",
     "output_type": "stream",
     "text": [
      "오늘은 일요일\n"
     ]
    }
   ],
   "source": [
    "print (\"오늘은\", \"일요일\")"
   ]
  },
  {
   "cell_type": "code",
   "execution_count": null,
   "id": "1b64458a-87d3-4b0b-b267-0b3ccd24aec7",
   "metadata": {},
   "outputs": [],
   "source": [
    "#8.print() 함수를 사용하여 다음과 같이 출력하세요.\n",
    "# naver/kakao/sk/samsung"
   ]
  },
  {
   "cell_type": "code",
   "execution_count": 17,
   "id": "90f7c632-2c35-41d5-97e3-e901a1dbfcd9",
   "metadata": {},
   "outputs": [
    {
     "name": "stdout",
     "output_type": "stream",
     "text": [
      "naver/kakao/sk/samsung\n"
     ]
    }
   ],
   "source": [
    "print(\"naver/kakao/sk/samsung\")"
   ]
  },
  {
   "cell_type": "code",
   "execution_count": null,
   "id": "e508fd77-db07-42e4-8110-975e637b3bd7",
   "metadata": {},
   "outputs": [],
   "source": [
    "# 9.다음 코드를 수정하여 줄바꿈이 없이 출력하세요. (힌트: end='') print 함수는 두 번 사용합니다. 세미콜론 (;)은 한줄에 여러 개의 명령을 작성하기 위해 사용합니다.\n",
    "# print(\"first\");print(\"second\")"
   ]
  },
  {
   "cell_type": "code",
   "execution_count": 25,
   "id": "f3621e5c-0c33-48ab-a61a-f29d59cbe142",
   "metadata": {},
   "outputs": [
    {
     "name": "stdout",
     "output_type": "stream",
     "text": [
      "firstsecond\n"
     ]
    }
   ],
   "source": [
    "print(\"first\"\"second\")"
   ]
  },
  {
   "cell_type": "code",
   "execution_count": 23,
   "id": "ad646731-ba33-488c-b4de-d77db92741dd",
   "metadata": {},
   "outputs": [
    {
     "name": "stdout",
     "output_type": "stream",
     "text": [
      "firstsecond\n"
     ]
    }
   ],
   "source": [
    "print(\"first\", end=\"\"); print(\"second\")"
   ]
  },
  {
   "cell_type": "code",
   "execution_count": null,
   "id": "d0d8af9a-3fdd-4a6c-9626-c8144dd19c91",
   "metadata": {},
   "outputs": [],
   "source": [
    "# 10. 5/3의 결과를 화면에 출력하세요"
   ]
  },
  {
   "cell_type": "code",
   "execution_count": 27,
   "id": "f4bb4e38-2eea-4023-95d3-9dd59e3620ef",
   "metadata": {},
   "outputs": [
    {
     "name": "stdout",
     "output_type": "stream",
     "text": [
      "1.6666666666666667\n"
     ]
    }
   ],
   "source": [
    "print (5/3)"
   ]
  }
 ],
 "metadata": {
  "kernelspec": {
   "display_name": "Python 3 (ipykernel)",
   "language": "python",
   "name": "python3"
  },
  "language_info": {
   "codemirror_mode": {
    "name": "ipython",
    "version": 3
   },
   "file_extension": ".py",
   "mimetype": "text/x-python",
   "name": "python",
   "nbconvert_exporter": "python",
   "pygments_lexer": "ipython3",
   "version": "3.12.4"
  }
 },
 "nbformat": 4,
 "nbformat_minor": 5
}
