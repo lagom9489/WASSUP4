{
 "cells": [
  {
   "cell_type": "code",
   "execution_count": null,
   "id": "a4294bc5-e5d1-4742-a295-b1f3512fb65f",
   "metadata": {},
   "outputs": [],
   "source": [
    "#101 \n",
    "\n",
    "bool 타입"
   ]
  },
  {
   "cell_type": "code",
   "execution_count": null,
   "id": "8583711f-6409-445d-870b-9bbe8c53568c",
   "metadata": {},
   "outputs": [],
   "source": [
    "#102 \n",
    "\n",
    "false"
   ]
  },
  {
   "cell_type": "code",
   "execution_count": null,
   "id": "d4bde4d3-435d-4c8b-bfc0-74a37c1ddce9",
   "metadata": {},
   "outputs": [],
   "source": [
    "#103 \n",
    "\n",
    "false"
   ]
  },
  {
   "cell_type": "code",
   "execution_count": null,
   "id": "5f307969-5bc2-4e61-bdb4-96cab1a95b13",
   "metadata": {},
   "outputs": [],
   "source": [
    "#104\n",
    "\n",
    "true"
   ]
  },
  {
   "cell_type": "code",
   "execution_count": null,
   "id": "b9d1d19d-cd79-423e-9def-f6ea8a70fa8a",
   "metadata": {},
   "outputs": [],
   "source": [
    "#105\n",
    "\n",
    "true"
   ]
  },
  {
   "cell_type": "code",
   "execution_count": 1,
   "id": "06a52ddd-6e69-4536-a353-26c7d6765824",
   "metadata": {},
   "outputs": [
    {
     "ename": "SyntaxError",
     "evalue": "invalid syntax (2807798216.py, line 3)",
     "output_type": "error",
     "traceback": [
      "\u001b[0;36m  Cell \u001b[0;32mIn[1], line 3\u001b[0;36m\u001b[0m\n\u001b[0;31m    => 는 지원하지 않는 연산자\u001b[0m\n\u001b[0m    ^\u001b[0m\n\u001b[0;31mSyntaxError\u001b[0m\u001b[0;31m:\u001b[0m invalid syntax\n"
     ]
    }
   ],
   "source": [
    "#106\n",
    "\n",
    "=> 는 지원하지 않는 연산자 \n",
    ">= 가 지원하는 연산자 "
   ]
  },
  {
   "cell_type": "code",
   "execution_count": 3,
   "id": "8a0b0440-466c-4b62-aad1-fafba5fbdd68",
   "metadata": {},
   "outputs": [],
   "source": [
    "#107. \n",
    "\n",
    "if 4 < 3:\n",
    "    print(\"Hello World\")"
   ]
  },
  {
   "cell_type": "code",
   "execution_count": null,
   "id": "6fe3adb8-337f-4e2b-a21a-0cae5d87a97c",
   "metadata": {},
   "outputs": [],
   "source": [
    "#108\n",
    "\n",
    "Hi, there"
   ]
  },
  {
   "cell_type": "code",
   "execution_count": 5,
   "id": "15a31dec-04fe-43ef-a7c6-882667276982",
   "metadata": {},
   "outputs": [
    {
     "name": "stdout",
     "output_type": "stream",
     "text": [
      "1\n",
      "2\n",
      "4\n"
     ]
    }
   ],
   "source": [
    "#109 \n",
    "\n",
    "if True :\n",
    "    print (\"1\")\n",
    "    print (\"2\")\n",
    "else :\n",
    "    print(\"3\")\n",
    "print(\"4\")"
   ]
  },
  {
   "cell_type": "code",
   "execution_count": 7,
   "id": "a15012f4-045f-40d8-ace1-f31ce2cfe74c",
   "metadata": {},
   "outputs": [
    {
     "name": "stdout",
     "output_type": "stream",
     "text": [
      "3\n",
      "5\n"
     ]
    }
   ],
   "source": [
    "#110 \n",
    "\n",
    "if True :\n",
    "    if False:\n",
    "        print(\"1\")\n",
    "        print(\"2\")\n",
    "    else:\n",
    "        print(\"3\")\n",
    "else :\n",
    "    print(\"4\")\n",
    "print(\"5\")"
   ]
  },
  {
   "cell_type": "code",
   "execution_count": 11,
   "id": "0114ed5c-7c59-428a-baf0-2fb4a91e2c72",
   "metadata": {},
   "outputs": [
    {
     "name": "stdin",
     "output_type": "stream",
     "text": [
      "입력: 안녕하세요!\n"
     ]
    },
    {
     "name": "stdout",
     "output_type": "stream",
     "text": [
      "안녕하세요!안녕하세요!\n"
     ]
    }
   ],
   "source": [
    "#111 \n",
    "\n",
    "user = input(\"입력:\")\n",
    "print(user*2)"
   ]
  },
  {
   "cell_type": "code",
   "execution_count": 13,
   "id": "0b4e48e8-0d2c-4fb0-84db-5f340010d580",
   "metadata": {},
   "outputs": [
    {
     "name": "stdin",
     "output_type": "stream",
     "text": [
      "숫자를 입력하세요:  40\n"
     ]
    },
    {
     "name": "stdout",
     "output_type": "stream",
     "text": [
      "50\n"
     ]
    }
   ],
   "source": [
    "#112\n",
    "\n",
    "user = input(\"숫자를 입력하세요: \" )\n",
    "print(10 + int(user))\n"
   ]
  },
  {
   "cell_type": "code",
   "execution_count": 15,
   "id": "0e6c509c-54db-4b97-9ce5-70bcbeb04ffa",
   "metadata": {},
   "outputs": [
    {
     "name": "stdin",
     "output_type": "stream",
     "text": [
      "숫자를 입력하세요 :  5\n"
     ]
    },
    {
     "name": "stdout",
     "output_type": "stream",
     "text": [
      "홀수\n"
     ]
    }
   ],
   "source": [
    "#113 \n",
    "\n",
    "user = input(\"숫자를 입력하세요 : \" )\n",
    "if int(user) % 2 == 0:\n",
    "    print(\"짝수\")\n",
    "\n",
    "else :\n",
    "    print(\"홀수\")"
   ]
  },
  {
   "cell_type": "code",
   "execution_count": 19,
   "id": "37e8d7ec-a749-408a-99a9-f4b828d91bf9",
   "metadata": {},
   "outputs": [
    {
     "name": "stdin",
     "output_type": "stream",
     "text": [
      "입력값 :  200\n"
     ]
    },
    {
     "name": "stdout",
     "output_type": "stream",
     "text": [
      "220\n"
     ]
    }
   ],
   "source": [
    "#114 \n",
    "user = input(\"입력값 : \")\n",
    "num = 20 + int(user) \n",
    "if num > 255 : \n",
    "    print(255)\n",
    "else :\n",
    "    print(num)"
   ]
  },
  {
   "cell_type": "code",
   "execution_count": 31,
   "id": "51cf985e-f014-489c-9320-2f9559153c3b",
   "metadata": {},
   "outputs": [
    {
     "name": "stdin",
     "output_type": "stream",
     "text": [
      "입력값 :  23\n"
     ]
    },
    {
     "name": "stdout",
     "output_type": "stream",
     "text": [
      "3\n"
     ]
    }
   ],
   "source": [
    "#115.\n",
    "\n",
    "user = input(\"입력값 : \")\n",
    "num = int(user) - 20\n",
    "if num > 255:\n",
    "    print(255) \n",
    "elif num < 0: \n",
    "    print(0)\n",
    "else:\n",
    "    print(num)"
   ]
  },
  {
   "cell_type": "code",
   "execution_count": 38,
   "id": "83cf4c94-bfc6-4756-bffe-36035efac7db",
   "metadata": {},
   "outputs": [
    {
     "name": "stdin",
     "output_type": "stream",
     "text": [
      "현재시간 : 02:15\n"
     ]
    },
    {
     "name": "stdout",
     "output_type": "stream",
     "text": [
      "정각이 아닙니다.\n"
     ]
    }
   ],
   "source": [
    "#116 \n",
    "\n",
    "time = input(\"현재시간 :\") \n",
    "if time[-2:] == \"00\":\n",
    "    print(\"정각 입니다.\")\n",
    "else : \n",
    "    print(\"정각이 아닙니다.\")"
   ]
  },
  {
   "cell_type": "code",
   "execution_count": 42,
   "id": "6cf72769-1879-46b8-b842-90faa67ee8e3",
   "metadata": {},
   "outputs": [
    {
     "name": "stdin",
     "output_type": "stream",
     "text": [
      "좋아하는 과일은? 감\n"
     ]
    },
    {
     "name": "stdout",
     "output_type": "stream",
     "text": [
      "오답입니다.\n"
     ]
    }
   ],
   "source": [
    "#117 \n",
    "\n",
    "fruit = [\"사과\", \"포도\", \"홍시\"]\n",
    "user = input(\"좋아하는 과일은?\")\n",
    "if user in fruit: \n",
    "    print(\"정답입니다.\")\n",
    "else: \n",
    "    print(\"오답입니다.\")"
   ]
  },
  {
   "cell_type": "code",
   "execution_count": 48,
   "id": "b66506af-41b7-436d-8e7b-38295b6385be",
   "metadata": {},
   "outputs": [
    {
     "name": "stdin",
     "output_type": "stream",
     "text": [
      "내가 좋아하는 계절 :  가을\n"
     ]
    },
    {
     "name": "stdout",
     "output_type": "stream",
     "text": [
      "정답입니다.\n"
     ]
    }
   ],
   "source": [
    "#118\n",
    "fruit = {\"봄\" : \"딸기\", \"여름\" : \"토마토\", \"가을\" : \"사과\"}\n",
    "user = input(\"내가 좋아하는 계절 : \")\n",
    "if user in fruit:\n",
    "    print(\"정답입니다.\")\n",
    "else:\n",
    "    print(\"오답입니다.\")"
   ]
  },
  {
   "cell_type": "code",
   "execution_count": 50,
   "id": "d15143de-7561-43ef-a109-24b59150ca8b",
   "metadata": {},
   "outputs": [
    {
     "name": "stdin",
     "output_type": "stream",
     "text": [
      "좋아하는 과일은? 딸기\n"
     ]
    },
    {
     "name": "stdout",
     "output_type": "stream",
     "text": [
      "정답입니다.\n"
     ]
    }
   ],
   "source": [
    "#120 \n",
    "\n",
    "fruit = {\"봄\" : \"딸기\", \"여름\" : \"토마토\", \"가을\" : \"사과\"}\n",
    "user = input(\"좋아하는 과일은?\")\n",
    "if user in fruit.values():\n",
    "    print(\"정답입니다.\")\n",
    "else:\n",
    "    print(\"오답입니다.\")"
   ]
  }
 ],
 "metadata": {
  "kernelspec": {
   "display_name": "Python 3 (ipykernel)",
   "language": "python",
   "name": "python3"
  },
  "language_info": {
   "codemirror_mode": {
    "name": "ipython",
    "version": 3
   },
   "file_extension": ".py",
   "mimetype": "text/x-python",
   "name": "python",
   "nbconvert_exporter": "python",
   "pygments_lexer": "ipython3",
   "version": "3.12.4"
  }
 },
 "nbformat": 4,
 "nbformat_minor": 5
}
