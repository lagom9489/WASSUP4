{
 "cells": [
  {
   "cell_type": "markdown",
   "id": "77064ba9-31da-4afb-8cbb-13b00d691af0",
   "metadata": {},
   "source": [
    "# 함수와 입출력"
   ]
  },
  {
   "cell_type": "markdown",
   "id": "d69ed03a-653b-427e-965e-e6f70c8b762b",
   "metadata": {},
   "source": [
    "## 함수"
   ]
  },
  {
   "cell_type": "code",
   "execution_count": 5,
   "id": "d09a0396-4d75-422c-a193-bd25238a116d",
   "metadata": {},
   "outputs": [],
   "source": [
    "def add(a, b):\n",
    "    return a + b"
   ]
  },
  {
   "cell_type": "code",
   "execution_count": 9,
   "id": "6e37b457-5dae-4109-a9af-c5bcd24338b3",
   "metadata": {},
   "outputs": [
    {
     "name": "stdout",
     "output_type": "stream",
     "text": [
      "7\n"
     ]
    }
   ],
   "source": [
    "a = 3 \n",
    "b = 4 \n",
    "c = add(a, b)\n",
    "print(c)"
   ]
  },
  {
   "cell_type": "markdown",
   "id": "bb19a683-1f6c-45d5-8fe1-3e1bfa8763b0",
   "metadata": {},
   "source": [
    "## 매개변수와 인수"
   ]
  },
  {
   "cell_type": "code",
   "execution_count": 12,
   "id": "56270fd7-4983-4b47-84bb-9904a6303fad",
   "metadata": {},
   "outputs": [
    {
     "name": "stdout",
     "output_type": "stream",
     "text": [
      "7\n"
     ]
    }
   ],
   "source": [
    "def add(a, b): #a,b는 매개변수\n",
    "    return a+b\n",
    "\n",
    "print(add(3,4)) # 3,4는 인수"
   ]
  },
  {
   "cell_type": "markdown",
   "id": "cd1ac230-7ad4-4bb3-9ebc-490f11b3e8ba",
   "metadata": {},
   "source": [
    "## 입력값과 리턴값에 따른 함수의 형태"
   ]
  },
  {
   "cell_type": "markdown",
   "id": "2cca615d-dd80-4327-b313-cccad2db1ec1",
   "metadata": {},
   "source": [
    "def add(a,b):\n",
    "    result = a + b \n",
    "    return result"
   ]
  },
  {
   "cell_type": "code",
   "execution_count": 20,
   "id": "48845e97-7530-4bfd-ae59-2aaf1f10fd16",
   "metadata": {},
   "outputs": [
    {
     "data": {
      "text/plain": [
       "7"
      ]
     },
     "execution_count": 20,
     "metadata": {},
     "output_type": "execute_result"
    }
   ],
   "source": [
    "add(3,4)"
   ]
  },
  {
   "cell_type": "code",
   "execution_count": 22,
   "id": "65654085-5db6-49ef-8ee1-9f9b3c788dcb",
   "metadata": {},
   "outputs": [],
   "source": [
    "# 입력값이 없는 함수 \n",
    "def say():\n",
    "    return 'hi'"
   ]
  },
  {
   "cell_type": "code",
   "execution_count": 24,
   "id": "3006c24a-0613-409f-ac41-d76a3ad1075b",
   "metadata": {},
   "outputs": [
    {
     "data": {
      "text/plain": [
       "'hi'"
      ]
     },
     "execution_count": 24,
     "metadata": {},
     "output_type": "execute_result"
    }
   ],
   "source": [
    "say()"
   ]
  },
  {
   "cell_type": "code",
   "execution_count": 36,
   "id": "3321390a-ace5-4931-aba4-ca86f48c4bb4",
   "metadata": {},
   "outputs": [],
   "source": [
    "# 리턴값이 없는 함수 \n",
    "def add2(a,b):\n",
    "    print(\"%d, %d의 값은 %d입니다.\" % (a,b,a+b))"
   ]
  },
  {
   "cell_type": "code",
   "execution_count": 32,
   "id": "8629d0e1-de0a-4218-901c-092108c96101",
   "metadata": {},
   "outputs": [
    {
     "name": "stdout",
     "output_type": "stream",
     "text": [
      "3, 4의 값은 7입니다.\n"
     ]
    }
   ],
   "source": [
    "add(3,4)"
   ]
  },
  {
   "cell_type": "code",
   "execution_count": 38,
   "id": "237cd0bf-7c3e-41a4-be73-e9d25432a222",
   "metadata": {},
   "outputs": [
    {
     "name": "stdout",
     "output_type": "stream",
     "text": [
      "3, 4의 값은 7입니다.\n"
     ]
    }
   ],
   "source": [
    "c=add2(3,4)"
   ]
  },
  {
   "cell_type": "code",
   "execution_count": 40,
   "id": "86457ca1-9408-4baf-80e0-802b841b554e",
   "metadata": {},
   "outputs": [
    {
     "name": "stdout",
     "output_type": "stream",
     "text": [
      "None\n"
     ]
    }
   ],
   "source": [
    "print(c)"
   ]
  },
  {
   "cell_type": "markdown",
   "id": "aaff8f60-fddd-4f2c-bfb2-09f27864e47a",
   "metadata": {},
   "source": [
    "## 매개변수를 지정하여 호출하기"
   ]
  },
  {
   "cell_type": "code",
   "execution_count": 47,
   "id": "34ff0214-1b29-48d3-8243-ada46d041113",
   "metadata": {},
   "outputs": [],
   "source": [
    "def sub(a, b) :\n",
    "    return a - b"
   ]
  },
  {
   "cell_type": "code",
   "execution_count": 49,
   "id": "0d0cf4d8-e40a-4b0c-858e-19ca4a3582de",
   "metadata": {},
   "outputs": [
    {
     "name": "stdout",
     "output_type": "stream",
     "text": [
      "4\n"
     ]
    }
   ],
   "source": [
    "result = sub(a=7, b=3)\n",
    "print(result)"
   ]
  },
  {
   "cell_type": "code",
   "execution_count": 51,
   "id": "ea310376-0aff-4092-ae7c-4c685e6c9735",
   "metadata": {},
   "outputs": [
    {
     "name": "stdout",
     "output_type": "stream",
     "text": [
      "-2\n"
     ]
    }
   ],
   "source": [
    "result = sub(b=5, a=3) #순서 바꿔도 됨\n",
    "print(result)"
   ]
  },
  {
   "cell_type": "markdown",
   "id": "9ecb52ab-e715-466e-b9c8-88e2ca1894a6",
   "metadata": {},
   "source": [
    "## 입력값이 몇 개가 될지 모를 때는 어떻게 하지?"
   ]
  },
  {
   "cell_type": "code",
   "execution_count": 54,
   "id": "34cebf8d-2587-4603-984a-e187d85fba82",
   "metadata": {},
   "outputs": [],
   "source": [
    "# 사용자의 입력이 몇개든, 전부다 누적해서 더해주는 함수 \n",
    "def add_many(*args):\n",
    "    result = 0\n",
    "    for i in args:\n",
    "        result = result+i\n",
    "    return result"
   ]
  },
  {
   "cell_type": "code",
   "execution_count": 58,
   "id": "0d340752-07f7-406d-addf-4f4e77cce6ad",
   "metadata": {},
   "outputs": [
    {
     "data": {
      "text/plain": [
       "161"
      ]
     },
     "execution_count": 58,
     "metadata": {},
     "output_type": "execute_result"
    }
   ],
   "source": [
    "add_many(1,2,4,5,3,2,43,1,100)"
   ]
  },
  {
   "cell_type": "code",
   "execution_count": 60,
   "id": "ff2d8352-0e39-4877-9273-563f68962caf",
   "metadata": {},
   "outputs": [
    {
     "data": {
      "text/plain": [
       "'\\n사용자에게 다수의 입력을 받아서 \\n누적곱 또는 누적합을 출력하는 함수를 만들어라 \\n'"
      ]
     },
     "execution_count": 60,
     "metadata": {},
     "output_type": "execute_result"
    }
   ],
   "source": [
    "## quiz \n",
    "'''\n",
    "사용자에게 다수의 입력을 받아서 \n",
    "옵션에 따라서\n",
    "누적곱 또는 누적합을 출력하는 함수를 만들어라 \n",
    "'''"
   ]
  },
  {
   "cell_type": "code",
   "execution_count": 92,
   "id": "9c33b023-5661-4be5-8ec1-7052b7bce004",
   "metadata": {},
   "outputs": [],
   "source": [
    "def add_mul(option, *args):\n",
    "    if option == 'mul':\n",
    "        data = 1\n",
    "        for i in args:\n",
    "            data = data * i\n",
    "        return data\n",
    "\n",
    "    if option == 'sum':\n",
    "        data = 0\n",
    "        for i in args:\n",
    "            data = data + i\n",
    "        return data"
   ]
  },
  {
   "cell_type": "code",
   "execution_count": 94,
   "id": "ad6d3eb7-b932-4a51-9037-ebdf9a57b74f",
   "metadata": {},
   "outputs": [
    {
     "data": {
      "text/plain": [
       "120"
      ]
     },
     "execution_count": 94,
     "metadata": {},
     "output_type": "execute_result"
    }
   ],
   "source": [
    "add_mul('mul', 1,2,3,4,5)"
   ]
  },
  {
   "cell_type": "code",
   "execution_count": 96,
   "id": "476e93e2-5cf8-4225-8265-d6e480a9e8c5",
   "metadata": {},
   "outputs": [
    {
     "data": {
      "text/plain": [
       "15"
      ]
     },
     "execution_count": 96,
     "metadata": {},
     "output_type": "execute_result"
    }
   ],
   "source": [
    "add_mul('sum', 1,2,3,4,5)"
   ]
  },
  {
   "cell_type": "markdown",
   "id": "ab793d0d-4b3c-48cc-8104-28e90cc1cd37",
   "metadata": {},
   "source": [
    "## 키워드 매개변수, kwargs"
   ]
  },
  {
   "cell_type": "code",
   "execution_count": 101,
   "id": "9449e459-107c-4707-823e-9899a6916217",
   "metadata": {},
   "outputs": [],
   "source": [
    "def print_kwargs(**kwargs):\n",
    "    print(kwargs)"
   ]
  },
  {
   "cell_type": "code",
   "execution_count": 103,
   "id": "43159bba-677c-49a9-af3d-40a25ce55768",
   "metadata": {},
   "outputs": [
    {
     "name": "stdout",
     "output_type": "stream",
     "text": [
      "{'a': 1}\n"
     ]
    }
   ],
   "source": [
    "print_kwargs(a=1)"
   ]
  },
  {
   "cell_type": "code",
   "execution_count": 105,
   "id": "e3781962-fcae-483a-9cc5-02e4b9db06af",
   "metadata": {},
   "outputs": [
    {
     "name": "stdout",
     "output_type": "stream",
     "text": [
      "{'name': 'park', 'age': 30}\n"
     ]
    }
   ],
   "source": [
    "print_kwargs(name=\"park\", age=30)"
   ]
  },
  {
   "cell_type": "markdown",
   "id": "a93ffec2-3451-4b00-aa42-959588e50522",
   "metadata": {},
   "source": [
    "## 함수의 리턴값은 언제나 하나이다."
   ]
  },
  {
   "cell_type": "code",
   "execution_count": 114,
   "id": "c8ee6e23-83d7-477f-8e81-1873b2e6b343",
   "metadata": {},
   "outputs": [],
   "source": [
    "def add_and_mul(a,b):\n",
    "    return a+b, a*b"
   ]
  },
  {
   "cell_type": "code",
   "execution_count": 116,
   "id": "59106e76-256a-4acd-b421-9ee63d3ebc09",
   "metadata": {},
   "outputs": [
    {
     "data": {
      "text/plain": [
       "(7, 12)"
      ]
     },
     "execution_count": 116,
     "metadata": {},
     "output_type": "execute_result"
    }
   ],
   "source": [
    "add_and_mul(3,4)"
   ]
  },
  {
   "cell_type": "code",
   "execution_count": 118,
   "id": "4da54649-1a9d-4e09-aa66-0d283ec02e02",
   "metadata": {},
   "outputs": [],
   "source": [
    "def add_and_mul(a,b):\n",
    "    return a+b\n",
    "    return a*b"
   ]
  },
  {
   "cell_type": "code",
   "execution_count": 120,
   "id": "826cab52-d286-46e2-9ffd-6f97466572d3",
   "metadata": {},
   "outputs": [
    {
     "data": {
      "text/plain": [
       "5"
      ]
     },
     "execution_count": 120,
     "metadata": {},
     "output_type": "execute_result"
    }
   ],
   "source": [
    "result = add_and_mul(2,3)\n",
    "result"
   ]
  },
  {
   "cell_type": "markdown",
   "id": "1ae4e941-f701-4faa-9710-606ee5382065",
   "metadata": {},
   "source": [
    "## return으로 함수 이탈하기"
   ]
  },
  {
   "cell_type": "code",
   "execution_count": 123,
   "id": "4c30cf0e-4be3-4458-b6ad-36a7ab928e68",
   "metadata": {},
   "outputs": [],
   "source": [
    "def say_nick(nick):\n",
    "    if nick == '바보':\n",
    "        return '옥상으로 따라와'\n",
    "    print(f'나의 별명은 {nick}입니다.')"
   ]
  },
  {
   "cell_type": "code",
   "execution_count": 125,
   "id": "1aa02496-3aa3-4ed4-8135-55fcbbba6eb9",
   "metadata": {},
   "outputs": [
    {
     "name": "stdout",
     "output_type": "stream",
     "text": [
      "나의 별명은 야호입니다.\n"
     ]
    }
   ],
   "source": [
    "say_nick('야호')"
   ]
  },
  {
   "cell_type": "code",
   "execution_count": 127,
   "id": "557f76d7-3a9e-454a-9e21-be609cdf2322",
   "metadata": {},
   "outputs": [
    {
     "data": {
      "text/plain": [
       "'옥상으로 따라와'"
      ]
     },
     "execution_count": 127,
     "metadata": {},
     "output_type": "execute_result"
    }
   ],
   "source": [
    "say_nick('바보')"
   ]
  },
  {
   "cell_type": "markdown",
   "id": "9d7171ae-e86c-455f-b960-3d7ef6562e2c",
   "metadata": {},
   "source": [
    "## 매개변수에 초깃값 미리 설정하기"
   ]
  },
  {
   "cell_type": "code",
   "execution_count": 130,
   "id": "d6ed75e6-60b8-4b11-ae51-3dd56c2b0676",
   "metadata": {},
   "outputs": [],
   "source": [
    "def say_myself(name, age, man=True):\n",
    "    print(f'나의 이름은 {name}입니다.')\n",
    "    print(f'나이는 {age}입니다.')\n",
    "    if man:\n",
    "        print('삐빅, 남자입니다.')\n",
    "    else : \n",
    "        print('삐빅, 여자입니다.')"
   ]
  },
  {
   "cell_type": "code",
   "execution_count": 132,
   "id": "eb76caed-c0d5-4ead-a334-ed076ada961b",
   "metadata": {},
   "outputs": [
    {
     "name": "stdout",
     "output_type": "stream",
     "text": [
      "나의 이름은 맹광국입니다.\n",
      "나이는 20입니다.\n",
      "삐빅, 남자입니다.\n"
     ]
    }
   ],
   "source": [
    "say_myself('맹광국', 20)"
   ]
  },
  {
   "cell_type": "code",
   "execution_count": 138,
   "id": "c67a9287-10a4-4927-b4ed-cd92fc33e960",
   "metadata": {},
   "outputs": [
    {
     "name": "stdout",
     "output_type": "stream",
     "text": [
      "나의 이름은 맹광국입니다.\n",
      "나이는 20입니다.\n",
      "삐빅, 여자입ㄴ디ㅏ.\n"
     ]
    }
   ],
   "source": [
    "say_myself('맹광국', 20, False)"
   ]
  },
  {
   "cell_type": "markdown",
   "id": "8685e88b-0164-4740-9cc1-58d2de04cad1",
   "metadata": {},
   "source": [
    "## 함수 안에서 선언한 변수의 효력 범위"
   ]
  },
  {
   "cell_type": "code",
   "execution_count": null,
   "id": "bd3ae797-8970-49a1-bd31-644c7918ba0d",
   "metadata": {},
   "outputs": [],
   "source": [
    "a = 1 #글로벌 영역 \n",
    "def vartest(a): #로컬 영역\n",
    "    a = a + 1 "
   ]
  },
  {
   "cell_type": "code",
   "execution_count": 141,
   "id": "31d89011-3c9e-4ebe-b11c-f447b460c3dd",
   "metadata": {},
   "outputs": [
    {
     "data": {
      "text/plain": [
       "3"
      ]
     },
     "execution_count": 141,
     "metadata": {},
     "output_type": "execute_result"
    }
   ],
   "source": [
    "a"
   ]
  },
  {
   "cell_type": "markdown",
   "id": "5a31bb14-667b-4e36-9692-c6703836c16d",
   "metadata": {},
   "source": [
    "## 함수 안에서 함수 밖의 변수를 변경하는 방법"
   ]
  },
  {
   "cell_type": "code",
   "execution_count": 144,
   "id": "ec6e5a55-1bf8-479f-b51d-e9f87275190d",
   "metadata": {},
   "outputs": [
    {
     "name": "stdout",
     "output_type": "stream",
     "text": [
      "2\n"
     ]
    }
   ],
   "source": [
    "#1. return 사용하기 \n",
    "a = 1 \n",
    "def vartest(a):\n",
    "    a = a + 1 \n",
    "    return a \n",
    "a = vartest(a)\n",
    "print(a)"
   ]
  },
  {
   "cell_type": "code",
   "execution_count": 146,
   "id": "06d16244-9505-4e9c-90ee-e053e40e82b3",
   "metadata": {},
   "outputs": [
    {
     "name": "stdout",
     "output_type": "stream",
     "text": [
      "2\n"
     ]
    }
   ],
   "source": [
    "#2. global 명령어 사용하기\n",
    "a = 1\n",
    "def vartest():\n",
    "    global a \n",
    "    a = a + 1\n",
    "\n",
    "vartest()\n",
    "print(a)"
   ]
  },
  {
   "cell_type": "markdown",
   "id": "df029bba-1f64-4b51-86cc-59ca94a3f124",
   "metadata": {},
   "source": [
    "## lambda 예약어"
   ]
  },
  {
   "cell_type": "markdown",
   "id": "d8a9e6a9-b436-4f37-9bb7-5a33c5e63585",
   "metadata": {},
   "source": [
    "### 1회성 함수"
   ]
  },
  {
   "cell_type": "code",
   "execution_count": 150,
   "id": "89fe48aa-46f8-415d-bc76-36c766aa0f1e",
   "metadata": {},
   "outputs": [
    {
     "name": "stdout",
     "output_type": "stream",
     "text": [
      "7\n"
     ]
    }
   ],
   "source": [
    "def add(a, b) : \n",
    "    return a+b\n",
    "result = add(3,4)\n",
    "print(result)"
   ]
  },
  {
   "cell_type": "code",
   "execution_count": 152,
   "id": "7a98afbc-265b-46a1-b835-bd03ee84c080",
   "metadata": {},
   "outputs": [
    {
     "data": {
      "text/plain": [
       "7"
      ]
     },
     "execution_count": 152,
     "metadata": {},
     "output_type": "execute_result"
    }
   ],
   "source": [
    "add = lambda a, b: a+b\n",
    "add(3,4)"
   ]
  },
  {
   "cell_type": "markdown",
   "id": "dc03c40a-4b32-47e8-903e-ae7210582e5d",
   "metadata": {},
   "source": [
    "## 파일 읽고 쓰기"
   ]
  },
  {
   "cell_type": "code",
   "execution_count": 159,
   "id": "f1bcc8b9-8771-4681-99a1-bbe713d1a41d",
   "metadata": {},
   "outputs": [],
   "source": [
    "f = open(\"output/test.txt\", 'w')\n",
    "f.close()"
   ]
  },
  {
   "cell_type": "code",
   "execution_count": 163,
   "id": "9d5d5899-2234-44ce-bc79-216a9e4340f6",
   "metadata": {},
   "outputs": [],
   "source": [
    "f = open(\"output/test.txt\", 'w')\n",
    "for i in range(1,11):\n",
    "    f.write(f'{i}번째 줄입니다.\\n')\n",
    "f.close()"
   ]
  },
  {
   "cell_type": "code",
   "execution_count": 171,
   "id": "56cb339c-294a-4aaa-b132-c79798e301e0",
   "metadata": {},
   "outputs": [
    {
     "name": "stdout",
     "output_type": "stream",
     "text": [
      "1번째 줄입니다.\n",
      "\n",
      "2번째 줄입니다.\n",
      "\n",
      "3번째 줄입니다.\n",
      "\n",
      "4번째 줄입니다.\n",
      "\n",
      "5번째 줄입니다.\n",
      "\n"
     ]
    }
   ],
   "source": [
    "#readline 함수 이용하기 \n",
    "f = open(\"output/test.txt\", 'r')\n",
    "for i in range(5):\n",
    "    line = f.readline()\n",
    "    print(line)\n",
    "f.close()"
   ]
  },
  {
   "cell_type": "markdown",
   "id": "6aa9252a-78d7-4a67-80de-8c48b5a9d98c",
   "metadata": {},
   "source": [
    "## quiz"
   ]
  },
  {
   "cell_type": "markdown",
   "id": "4463dd2e-725f-4f1d-856f-42d81e33d137",
   "metadata": {},
   "source": [
    "### 메모장을 읽어올 떄 줄바꿈 1개를 없애보세요."
   ]
  },
  {
   "cell_type": "code",
   "execution_count": 177,
   "id": "5eb1324d-74f3-43b6-92c1-24a5a1e76579",
   "metadata": {},
   "outputs": [
    {
     "name": "stdout",
     "output_type": "stream",
     "text": [
      "1번째 줄입니다.\n",
      "2번째 줄입니다.\n",
      "3번째 줄입니다.\n",
      "4번째 줄입니다.\n",
      "5번째 줄입니다.\n",
      "6번째 줄입니다.\n",
      "7번째 줄입니다.\n",
      "8번째 줄입니다.\n",
      "9번째 줄입니다.\n",
      "10번째 줄입니다.\n"
     ]
    }
   ],
   "source": [
    "f = open('output/test.txt', 'r')\n",
    "lines = f.readlines()\n",
    "for line in lines : \n",
    "    print(line.strip())\n",
    "f.close()"
   ]
  },
  {
   "cell_type": "code",
   "execution_count": 181,
   "id": "995383f0-7116-4121-aeda-c1c9422465dd",
   "metadata": {},
   "outputs": [
    {
     "name": "stdout",
     "output_type": "stream",
     "text": [
      "<class 'str'>\n",
      "1번째 줄입니다.\n",
      "2번째 줄입니다.\n",
      "3번째 줄입니다.\n",
      "4번째 줄입니다.\n",
      "5번째 줄입니다.\n",
      "6번째 줄입니다.\n",
      "7번째 줄입니다.\n",
      "8번째 줄입니다.\n",
      "9번째 줄입니다.\n",
      "10번째 줄입니다.\n",
      "\n"
     ]
    }
   ],
   "source": [
    "# read 함수 사용하기\n",
    "f = open('output/test.txt', 'r')\n",
    "data = f.read()\n",
    "print(type(data))\n",
    "print(data)\n",
    "f.close()"
   ]
  },
  {
   "cell_type": "markdown",
   "id": "07776453-96c6-4518-ab6f-bc9f318cb17d",
   "metadata": {},
   "source": [
    "# 파일에 새로운 내용 추가하기 "
   ]
  },
  {
   "cell_type": "code",
   "execution_count": 184,
   "id": "ab45b394-28ae-404b-ae0a-9cdbaa8bf4db",
   "metadata": {},
   "outputs": [],
   "source": [
    "f = open('output/test.txt', 'a')\n",
    "for i in range(11, 21):\n",
    "    data = f'{i}번째 줄입니다.\\n'\n",
    "    f.write(data)\n",
    "f.close()"
   ]
  },
  {
   "cell_type": "markdown",
   "id": "097c1583-6fb8-4450-8614-38e6f8990274",
   "metadata": {},
   "source": [
    "### with문"
   ]
  },
  {
   "cell_type": "code",
   "execution_count": 187,
   "id": "50d74248-2850-4350-9944-25ec68ffb310",
   "metadata": {},
   "outputs": [],
   "source": [
    "f = open(\"output/foo.txt\", 'w')\n",
    "f.write(\"Life is too short, you need python\")\n",
    "f.close()"
   ]
  },
  {
   "cell_type": "code",
   "execution_count": 191,
   "id": "4a9b7a39-6291-47f5-8f7d-6ac3493ba713",
   "metadata": {},
   "outputs": [],
   "source": [
    "with open('output/foo.txt', 'w') as f:\n",
    "          f.write(\"Your leg is too short\")"
   ]
  },
  {
   "cell_type": "code",
   "execution_count": null,
   "id": "9786cf02-6504-49f1-8ffc-72d03f840350",
   "metadata": {},
   "outputs": [],
   "source": []
  },
  {
   "cell_type": "code",
   "execution_count": null,
   "id": "3144a517-d6bf-46c2-abb5-fe6651b4e6e5",
   "metadata": {},
   "outputs": [],
   "source": []
  },
  {
   "cell_type": "code",
   "execution_count": null,
   "id": "3c230bae-8826-4931-8e28-f1607f7ae724",
   "metadata": {},
   "outputs": [],
   "source": []
  },
  {
   "cell_type": "code",
   "execution_count": null,
   "id": "9b4212f2-18ab-40e2-aad3-7f686a883987",
   "metadata": {},
   "outputs": [],
   "source": []
  },
  {
   "cell_type": "code",
   "execution_count": null,
   "id": "dab442d1-a0cb-4b8a-931b-346f2c60f9fa",
   "metadata": {},
   "outputs": [],
   "source": []
  },
  {
   "cell_type": "code",
   "execution_count": null,
   "id": "deba6d8d-d41d-4514-ba6b-eaa748405546",
   "metadata": {},
   "outputs": [],
   "source": []
  },
  {
   "cell_type": "code",
   "execution_count": null,
   "id": "0b66d8f5-0138-44b1-a2de-1d43d17ea366",
   "metadata": {},
   "outputs": [],
   "source": []
  },
  {
   "cell_type": "code",
   "execution_count": null,
   "id": "35691f50-de61-47f4-ac73-e11211849dd1",
   "metadata": {},
   "outputs": [],
   "source": []
  },
  {
   "cell_type": "code",
   "execution_count": null,
   "id": "6654395b-80b8-435e-83ad-7dbbc342e0c1",
   "metadata": {},
   "outputs": [],
   "source": []
  },
  {
   "cell_type": "code",
   "execution_count": null,
   "id": "5b8c6575-14cb-45a5-be14-aafb9a76849a",
   "metadata": {},
   "outputs": [],
   "source": []
  },
  {
   "cell_type": "code",
   "execution_count": null,
   "id": "9c799e15-9875-47a2-9d62-fce5338718ec",
   "metadata": {},
   "outputs": [],
   "source": []
  },
  {
   "cell_type": "code",
   "execution_count": null,
   "id": "92faac71-662c-4cbb-97b3-474c34bc1dca",
   "metadata": {},
   "outputs": [],
   "source": []
  },
  {
   "cell_type": "code",
   "execution_count": null,
   "id": "7dfec949-4880-4589-ac88-2a5f5f327a2a",
   "metadata": {},
   "outputs": [],
   "source": []
  },
  {
   "cell_type": "code",
   "execution_count": null,
   "id": "5dfc9849-8719-46c4-b97c-b5e3755195e2",
   "metadata": {},
   "outputs": [],
   "source": []
  },
  {
   "cell_type": "code",
   "execution_count": null,
   "id": "b930029a-f5e5-4fa8-95c7-da0d1da7f3da",
   "metadata": {},
   "outputs": [],
   "source": []
  },
  {
   "cell_type": "code",
   "execution_count": null,
   "id": "208c389a-3311-4ec4-b6b8-d02f48fe59e6",
   "metadata": {},
   "outputs": [],
   "source": []
  }
 ],
 "metadata": {
  "kernelspec": {
   "display_name": "Python 3 (ipykernel)",
   "language": "python",
   "name": "python3"
  },
  "language_info": {
   "codemirror_mode": {
    "name": "ipython",
    "version": 3
   },
   "file_extension": ".py",
   "mimetype": "text/x-python",
   "name": "python",
   "nbconvert_exporter": "python",
   "pygments_lexer": "ipython3",
   "version": "3.12.4"
  }
 },
 "nbformat": 4,
 "nbformat_minor": 5
}
