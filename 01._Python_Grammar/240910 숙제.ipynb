{
 "cells": [
  {
   "cell_type": "code",
   "execution_count": 3,
   "id": "ef7aa3f7-0e06-429f-ab51-a703944e6466",
   "metadata": {},
   "outputs": [
    {
     "name": "stdout",
     "output_type": "stream",
     "text": [
      "비트코인\n"
     ]
    }
   ],
   "source": [
    "#201\n",
    "\n",
    "def print_coin():\n",
    "    print(\"비트코인\")\n"
   ]
  },
  {
   "cell_type": "code",
   "execution_count": 5,
   "id": "8dd295c2-76a7-46d8-b56f-f0e491267b0c",
   "metadata": {},
   "outputs": [
    {
     "name": "stdout",
     "output_type": "stream",
     "text": [
      "비트코인\n"
     ]
    }
   ],
   "source": [
    "#202\n",
    "\n",
    "print_coin()"
   ]
  },
  {
   "cell_type": "code",
   "execution_count": 7,
   "id": "147f6b32-2e2f-4a48-8746-30df2c40ecf1",
   "metadata": {},
   "outputs": [
    {
     "name": "stdout",
     "output_type": "stream",
     "text": [
      "비트코인\n",
      "비트코인\n",
      "비트코인\n",
      "비트코인\n",
      "비트코인\n",
      "비트코인\n",
      "비트코인\n",
      "비트코인\n",
      "비트코인\n",
      "비트코인\n",
      "비트코인\n",
      "비트코인\n",
      "비트코인\n",
      "비트코인\n",
      "비트코인\n",
      "비트코인\n",
      "비트코인\n",
      "비트코인\n",
      "비트코인\n",
      "비트코인\n",
      "비트코인\n",
      "비트코인\n",
      "비트코인\n",
      "비트코인\n",
      "비트코인\n",
      "비트코인\n",
      "비트코인\n",
      "비트코인\n",
      "비트코인\n",
      "비트코인\n",
      "비트코인\n",
      "비트코인\n",
      "비트코인\n",
      "비트코인\n",
      "비트코인\n",
      "비트코인\n",
      "비트코인\n",
      "비트코인\n",
      "비트코인\n",
      "비트코인\n",
      "비트코인\n",
      "비트코인\n",
      "비트코인\n",
      "비트코인\n",
      "비트코인\n",
      "비트코인\n",
      "비트코인\n",
      "비트코인\n",
      "비트코인\n",
      "비트코인\n",
      "비트코인\n",
      "비트코인\n",
      "비트코인\n",
      "비트코인\n",
      "비트코인\n",
      "비트코인\n",
      "비트코인\n",
      "비트코인\n",
      "비트코인\n",
      "비트코인\n",
      "비트코인\n",
      "비트코인\n",
      "비트코인\n",
      "비트코인\n",
      "비트코인\n",
      "비트코인\n",
      "비트코인\n",
      "비트코인\n",
      "비트코인\n",
      "비트코인\n",
      "비트코인\n",
      "비트코인\n",
      "비트코인\n",
      "비트코인\n",
      "비트코인\n",
      "비트코인\n",
      "비트코인\n",
      "비트코인\n",
      "비트코인\n",
      "비트코인\n",
      "비트코인\n",
      "비트코인\n",
      "비트코인\n",
      "비트코인\n",
      "비트코인\n",
      "비트코인\n",
      "비트코인\n",
      "비트코인\n",
      "비트코인\n",
      "비트코인\n",
      "비트코인\n",
      "비트코인\n",
      "비트코인\n",
      "비트코인\n",
      "비트코인\n",
      "비트코인\n",
      "비트코인\n",
      "비트코인\n",
      "비트코인\n",
      "비트코인\n"
     ]
    }
   ],
   "source": [
    "#203\n",
    "\n",
    "for i in range(100):\n",
    "    print_coin()"
   ]
  },
  {
   "cell_type": "code",
   "execution_count": 11,
   "id": "00749278-fb13-4d09-82c0-19d4add5e1ca",
   "metadata": {},
   "outputs": [
    {
     "name": "stdout",
     "output_type": "stream",
     "text": [
      "비트코인비트코인비트코인비트코인비트코인비트코인비트코인비트코인비트코인비트코인비트코인비트코인비트코인비트코인비트코인비트코인비트코인비트코인비트코인비트코인비트코인비트코인비트코인비트코인비트코인비트코인비트코인비트코인비트코인비트코인비트코인비트코인비트코인비트코인비트코인비트코인비트코인비트코인비트코인비트코인비트코인비트코인비트코인비트코인비트코인비트코인비트코인비트코인비트코인비트코인비트코인비트코인비트코인비트코인비트코인비트코인비트코인비트코인비트코인비트코인비트코인비트코인비트코인비트코인비트코인비트코인비트코인비트코인비트코인비트코인비트코인비트코인비트코인비트코인비트코인비트코인비트코인비트코인비트코인비트코인비트코인비트코인비트코인비트코인비트코인비트코인비트코인비트코인비트코인비트코인비트코인비트코인비트코인비트코인비트코인비트코인비트코인비트코인비트코인비트코인\n"
     ]
    }
   ],
   "source": [
    "#204\n",
    "\n",
    "def print_coins():\n",
    "    print(\"비트코인\"*100)\n",
    "print_coins()"
   ]
  },
  {
   "cell_type": "code",
   "execution_count": null,
   "id": "8387b435-8f2d-42b7-8085-c4a881121702",
   "metadata": {},
   "outputs": [],
   "source": [
    "#205\n",
    "hello가 정의되기 전에 호출해버렸다"
   ]
  },
  {
   "cell_type": "code",
   "execution_count": null,
   "id": "cd42da09-6c1b-48f0-8a12-917277c4682a",
   "metadata": {},
   "outputs": [],
   "source": [
    "#206\n",
    "\n",
    "A\n",
    "B\n",
    "C\n",
    "A\n",
    "B"
   ]
  },
  {
   "cell_type": "code",
   "execution_count": null,
   "id": "21836b6f-4e61-4688-bc0a-9c30e82b4073",
   "metadata": {},
   "outputs": [],
   "source": [
    "#207\n",
    "\n",
    "A\n",
    "C\n",
    "B"
   ]
  },
  {
   "cell_type": "code",
   "execution_count": null,
   "id": "0cdffed2-b3c4-44ca-8860-5a62c36cd04c",
   "metadata": {},
   "outputs": [],
   "source": [
    "#208\n",
    "\n",
    "A\n",
    "C\n",
    "B\n",
    "E\n",
    "D"
   ]
  },
  {
   "cell_type": "code",
   "execution_count": null,
   "id": "5568f933-0343-4930-b65b-dafcb6977329",
   "metadata": {},
   "outputs": [],
   "source": [
    "#209\n",
    "\n",
    "B\n",
    "A"
   ]
  },
  {
   "cell_type": "code",
   "execution_count": null,
   "id": "7fbadd4c-a2b9-40af-90a3-14a5ccd76b86",
   "metadata": {},
   "outputs": [],
   "source": [
    "#210\n",
    "\n",
    "B\n",
    "C\n",
    "B\n",
    "C\n",
    "B\n",
    "C\n",
    "A"
   ]
  },
  {
   "cell_type": "code",
   "execution_count": null,
   "id": "071de98f-8458-4df2-abf8-3cc6a59928d9",
   "metadata": {},
   "outputs": [],
   "source": [
    "#211\n",
    "\n",
    "안녕\n",
    "Hi"
   ]
  },
  {
   "cell_type": "code",
   "execution_count": null,
   "id": "a2684d6a-872f-489a-a4e4-cdc37373eb8a",
   "metadata": {},
   "outputs": [],
   "source": [
    "#212\n",
    "\n"
   ]
  }
 ],
 "metadata": {
  "kernelspec": {
   "display_name": "Python 3 (ipykernel)",
   "language": "python",
   "name": "python3"
  },
  "language_info": {
   "codemirror_mode": {
    "name": "ipython",
    "version": 3
   },
   "file_extension": ".py",
   "mimetype": "text/x-python",
   "name": "python",
   "nbconvert_exporter": "python",
   "pygments_lexer": "ipython3",
   "version": "3.12.4"
  }
 },
 "nbformat": 4,
 "nbformat_minor": 5
}
