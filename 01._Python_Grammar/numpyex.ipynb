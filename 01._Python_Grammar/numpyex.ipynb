{
 "cells": [
  {
   "cell_type": "code",
   "execution_count": null,
   "id": "8f4fcb00-d4d3-44fe-b9fb-ba005a99f15a",
   "metadata": {},
   "outputs": [],
   "source": [
    "# numpy\n",
    "# numerical python의 약자 \n",
    "# 고성능 수치 계산을 위한 라이브러리 \n",
    "# 벡터나 행렬 연산에 편리한 기능 제공 \n",
    "# 모든 원소는 같은 자료형만 가능"
   ]
  },
  {
   "cell_type": "code",
   "execution_count": 29,
   "id": "bf642102-21a3-4e66-bd0d-fbc085d40c34",
   "metadata": {},
   "outputs": [
    {
     "name": "stdout",
     "output_type": "stream",
     "text": [
      "[ 0  1  2  3  4  5  6  7  8  9 10 11 12 13 14]\n",
      "[[ 0  3  6  9 12]\n",
      " [ 1  4  7 10 13]\n",
      " [ 2  5  8 11 14]]\n",
      "<class 'numpy.ndarray'>\n",
      "(3, 5)\n",
      "int64\n",
      "2\n",
      "15\n"
     ]
    }
   ],
   "source": [
    "# arange 함수 : 데이터를 쭉 ~ 나열하는 함수 \n",
    "import numpy as np\n",
    "a = np.arange( 15 )\n",
    "print(a) \n",
    "a = a.reshape(3,5, order='F')  # C : 행부터 할당, F : 열부터 할당\n",
    "print(a)\n",
    "print(type(a))\n",
    "print(a.shape)\n",
    "print(a.dtype)\n",
    "print(a.ndim) #몇차원 데이터냐\n",
    "print(a.size) #데이터 개수 \n",
    "# print(dir(np))\n",
    "\n"
   ]
  },
  {
   "cell_type": "code",
   "execution_count": 31,
   "id": "3fa6af28-79a8-4221-a729-3f6a215b619f",
   "metadata": {},
   "outputs": [
    {
     "name": "stdout",
     "output_type": "stream",
     "text": [
      "[[ 0  3  6  9 12]\n",
      " [ 1  4  7 10 13]\n",
      " [ 2  5  8 11 14]]\n"
     ]
    }
   ],
   "source": [
    "print(a)"
   ]
  },
  {
   "cell_type": "code",
   "execution_count": 87,
   "id": "0e990171-5a8c-4be3-bfde-59a3f1c34619",
   "metadata": {},
   "outputs": [
    {
     "name": "stdout",
     "output_type": "stream",
     "text": [
      "<class 'list'>\n",
      "<class 'numpy.ndarray'>\n",
      "<class 'tuple'>\n",
      "<class 'numpy.ndarray'>\n",
      "<class 'set'>\n",
      "<class 'numpy.ndarray'>\n"
     ]
    }
   ],
   "source": [
    "b = [-1, 2, 5, -3, 0, 7, -9, 7, -4, -7] #list (데이터 중복 가능)\n",
    "print(type(b))\n",
    "b = np.array(b)\n",
    "print(type(b))\n",
    "\n",
    "t = ( 10, 20, 30, 40, 50) #tuple\n",
    "print(type(t))\n",
    "t = np.array(t)\n",
    "print(type(t))\n",
    "\n",
    "s = {10, 20, 30, 40, 50} #set (데이터 중복 불가)\n",
    "print(type(s))\n",
    "s = np.array(s)\n",
    "print(type(s)) #기존에 있던 자료형도 numpy로 호환이 된다"
   ]
  },
  {
   "cell_type": "code",
   "execution_count": 105,
   "id": "207e58e9-f602-4e56-a04e-3524bbdecce8",
   "metadata": {},
   "outputs": [
    {
     "name": "stdout",
     "output_type": "stream",
     "text": [
      "(10,)\n",
      "1\n",
      "int64\n",
      "[-1  2  5 -3  0  7 -9  7 -4 -7]\n",
      "[1 2 5 3 0 7 9 7 4 7]\n",
      "[ 1  4 25  9  0 49 81 49 16 49]\n",
      "[False False False False False False False False False False]\n",
      "-3\n",
      "-0.3\n",
      "7\n",
      "-9\n",
      "5\n",
      "6\n",
      "[-9 -7 -4 -3 -1  0  2  5  7  7]\n",
      "[ 7  7  5  2  0 -1 -3 -4 -7 -9]\n"
     ]
    }
   ],
   "source": [
    "print (b.shape)\n",
    "print (b.ndim)\n",
    "print (b.dtype)\n",
    "print( b)\n",
    "\n",
    "print (np.abs(b)) # 절대값 함수 \n",
    "# print (np.sqrt(b)) # nan : 음수라 결과를 못 냄\n",
    "print (np.square(b)) #제곱\n",
    "print (np.isnan(b)) # nan 여부 \n",
    "print (np.sum(b)) # 합계 구하는 함수 \n",
    "print (np.mean(b)) # 평균 구하는 함수\n",
    "print (np.max(b)) # 최대값 \n",
    "print (np.min(b)) # 최소값 \n",
    "print (np.argmax(b)) # 최대값의 위치값(인덱스)를 알려주는 함수 \n",
    "print (np.argmin(b)) # 최솟값의 위치값\n",
    "print (np.sort(b)) # 정렬 오름차순 \n",
    "print (np.sort(b)[::-1]) # 정렬 내림차순 [시작 : 끝 : 간격] / -1 : 거꾸로"
   ]
  },
  {
   "cell_type": "code",
   "execution_count": 29,
   "id": "38bb12fd-8c55-4fc4-836d-d70dcb2d6bbb",
   "metadata": {},
   "outputs": [
    {
     "name": "stdout",
     "output_type": "stream",
     "text": [
      "<class 'list'>\n",
      "[[1, 2, 3], [4, 5, 6]]\n",
      "<class 'numpy.ndarray'>\n",
      "[[1 2 3]\n",
      " [4 5 6]]\n",
      "21\n",
      "[5 7 9]\n",
      "[ 6 15]\n",
      "3.5\n",
      "[2.5 3.5 4.5]\n",
      "[2. 5.]\n",
      "3.5\n",
      "[2.5 3.5 4.5]\n"
     ]
    }
   ],
   "source": [
    "import numpy as np\n",
    "c = [ [ 1, 2, 3 ], [4, 5, 6] ]\n",
    "print(type(c))\n",
    "print(c) #리스트는 출력할 떄 콤마로 출력됨\n",
    "c = np.array(c) #리스트에서 넘파이로 변경\n",
    "print(type(c))\n",
    "print(c) #넘파이는 줄바꿈 처리되어 출력됨\n",
    "\n",
    "print(np.sum(c))\n",
    "print(np.sum(c, axis=0))\n",
    "print(np.sum(c, axis=1))\n",
    "print(np.mean(c))\n",
    "print(np.mean(c, axis=0))\n",
    "print(np.mean(c, axis=1))\n",
    "print(np.median(c))\n",
    "print(np.median(c,axis=0))"
   ]
  },
  {
   "cell_type": "code",
   "execution_count": 61,
   "id": "5f72e734-4817-4437-bd09-f06e22f442a8",
   "metadata": {},
   "outputs": [
    {
     "name": "stdout",
     "output_type": "stream",
     "text": [
      "[12 22 32 42 52]\n",
      "[11 22 33 44 55]\n",
      "[11 22 33 44 55]\n",
      "[ 100  400  900 1600 2500]\n",
      "[ -5.44021111  18.25890501 -29.64094872  29.80452642 -13.11874269]\n",
      "[False False False  True  True]\n",
      "[11 22 33 44 55]\n",
      "[ 9 18 27 36 45]\n",
      "[ 10  40  90 160 250]\n",
      "[10. 10. 10. 10. 10.]\n"
     ]
    }
   ],
   "source": [
    "#element wise \n",
    "d = [10, 20, 30, 40, 50]\n",
    "# print(d+2) #error\n",
    "d = np.array(d)\n",
    "print(d+2)\n",
    "\n",
    "e = np.array([1,2,3,4,5])\n",
    "print(d+e)\n",
    "\n",
    "e = np.array ([1,2,3,4,5])\n",
    "print (d+e)\n",
    "print(d**2)\n",
    "print(d*np.sin(d))\n",
    "print(d>35)\n",
    "\n",
    "print(np.add(d, e))\n",
    "print(np.subtract(d, e))\n",
    "print(np.multiply(d, e))\n",
    "print(np.divide(d, e))"
   ]
  },
  {
   "cell_type": "code",
   "execution_count": 71,
   "id": "5ed373bd-3163-4113-921b-7d8ee5ed41a4",
   "metadata": {},
   "outputs": [
    {
     "name": "stdout",
     "output_type": "stream",
     "text": [
      "[[0 0]\n",
      " [3 4]]\n",
      "[[3 4]\n",
      " [5 4]]\n",
      "[[3 4]\n",
      " [5 4]]\n"
     ]
    }
   ],
   "source": [
    "f = np.array([[0, 1], [1, 1]])\n",
    "g = np.array([[2, 0], [3, 4]])\n",
    "print(f*g) #단순곱셈\n",
    "print(f@g) #행렬곱\n",
    "print (np.dot(f,g)) #행렬곱"
   ]
  },
  {
   "cell_type": "code",
   "execution_count": 99,
   "id": "19ebd92f-a8dc-4c7a-88ac-0ed7044aec64",
   "metadata": {},
   "outputs": [
    {
     "name": "stdout",
     "output_type": "stream",
     "text": [
      "[0. 0. 0. 0. 0. 0. 0. 0. 0. 0.]\n",
      "[[0. 0. 0. 0. 0.]\n",
      " [0. 0. 0. 0. 0.]\n",
      " [0. 0. 0. 0. 0.]\n",
      " [0. 0. 0. 0. 0.]\n",
      " [0. 0. 0. 0. 0.]]\n",
      "[1. 1. 1. 1. 1. 1. 1. 1. 1. 1.]\n",
      "<class 'list'>\n",
      "[0, 84, 4, 19, 23, 45, 43, 58, 3, 61]\n",
      "15\n",
      "[[0.97580577 0.18080289]\n",
      " [0.9102321  0.26107564]\n",
      " [0.70734335 0.3124225 ]\n",
      " [0.0213149  0.01961505]\n",
      " [0.78168673 0.80713449]]\n"
     ]
    }
   ],
   "source": [
    "h = np.zeros(10) #0이 10개가 들어있는 방을 만들어줘\n",
    "print(h)\n",
    "i = np.zeros ((5, 5))\n",
    "print(i)\n",
    "j = np.ones(10)\n",
    "print(j)\n",
    "\n",
    "k = np.random.random(10)*100\n",
    "k = [int(i) for i in k] \n",
    "print(type(k))\n",
    "print(k)\n",
    "\n",
    "print(np.random.randint(10,20))\n",
    "print(np.random.rand(5,2))"
   ]
  },
  {
   "cell_type": "code",
   "execution_count": 115,
   "id": "0814c3ac-9020-4346-b23f-880d62d50132",
   "metadata": {},
   "outputs": [
    {
     "name": "stdout",
     "output_type": "stream",
     "text": [
      "[10, 11, 12, 13, 14]\n",
      "[10, 12, 14]\n",
      "[10, 11, 12, 13, 14, 15, 16, 17, 18, 19]\n",
      "[15, 16, 17, 18, 19]\n",
      "[10, 11, 12, 13, 14, 15, 16, 17, 18]\n"
     ]
    }
   ],
   "source": [
    "#슬라이싱\n",
    "m = [i for i in range(10,20)]\n",
    "print(m[0:5])  #[시작 : 끝-1 : 간격]\n",
    "print(m[0:5:2])\n",
    "print(m[:])\n",
    "print(m[5:])\n",
    "print(m[:-1])\n",
    "print(m[::-1]) #거꾸로 출력\n",
    "\n",
    "#ndarray\n"
   ]
  },
  {
   "cell_type": "code",
   "execution_count": 135,
   "id": "6e10786d-84d6-463d-8225-631af49f4f6c",
   "metadata": {},
   "outputs": [
    {
     "name": "stdout",
     "output_type": "stream",
     "text": [
      "13\n",
      "[[1, 2, 3, 4, 5], [6, 7, 8, 9, 10], [11, 12, 13, 14, 15]]\n",
      "[11, 12, 13, 14, 15]\n",
      "[6, 7]\n",
      "[[ 1  2  3  4  5]\n",
      " [ 6  7  8  9 10]\n",
      " [11 12 13 14 15]]\n",
      "13\n",
      "[[ 1  2  3  4  5]\n",
      " [ 6  7  8  9 10]\n",
      " [11 12 13 14 15]]\n",
      "[11 12 13 14 15]\n",
      "[[1 2 3 4 5]]\n",
      "[[1 2]\n",
      " [6 7]]\n",
      "[[ 1  2  3  4  5]\n",
      " [ 6  7  8  9 10]\n",
      " [11 12 13 14 15]]\n"
     ]
    }
   ],
   "source": [
    "r = [[1,2,3,4,5], [6,7,8,9,10], [11,12,13,14,15]]\n",
    "print(r[2][2])\n",
    "print(r[:][:])\n",
    "print(r[2][:])\n",
    "print(r[1][:2])\n",
    "\n",
    "s =  np.arange(1,16).reshape(3,5)\n",
    "print(s)\n",
    "print(s[2][2])\n",
    "print(s[:][:])\n",
    "print(s[2][:])\n",
    "print(s[:2][:1])\n",
    "\n",
    "print(s[:2, :2])\n",
    "print(s[:, :])"
   ]
  },
  {
   "cell_type": "code",
   "execution_count": null,
   "id": "c408e639-57c2-453f-b783-bc4f933d89db",
   "metadata": {},
   "outputs": [],
   "source": []
  },
  {
   "cell_type": "code",
   "execution_count": null,
   "id": "e3d34a5e-36c5-4927-8362-368431ada41d",
   "metadata": {},
   "outputs": [],
   "source": []
  },
  {
   "cell_type": "code",
   "execution_count": null,
   "id": "202950a8-ebf6-497f-92b0-0d159599759e",
   "metadata": {},
   "outputs": [],
   "source": []
  }
 ],
 "metadata": {
  "kernelspec": {
   "display_name": "Python 3 (ipykernel)",
   "language": "python",
   "name": "python3"
  },
  "language_info": {
   "codemirror_mode": {
    "name": "ipython",
    "version": 3
   },
   "file_extension": ".py",
   "mimetype": "text/x-python",
   "name": "python",
   "nbconvert_exporter": "python",
   "pygments_lexer": "ipython3",
   "version": "3.12.4"
  }
 },
 "nbformat": 4,
 "nbformat_minor": 5
}
